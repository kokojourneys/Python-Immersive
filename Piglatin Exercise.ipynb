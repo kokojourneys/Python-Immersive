{
 "cells": [
  {
   "cell_type": "code",
   "execution_count": 148,
   "metadata": {},
   "outputs": [],
   "source": [
    "#Pig Latin Exercise\n",
    "# Ask user for input of a word:\n",
    "# IF: first letter is a vowel - add “yay”\n",
    "# Else: \n",
    "#    Find first vowel\n",
    "#    Slice word\n",
    "#    Recombine\n",
    "#    Add “ay” on end\n",
    "\n",
    "#Step 1:  Define vowels\n",
    "\n",
    "def vowelcheck (letter):\n",
    "    vowels=(\"a\",\"e\",\"i\",\"o\",\"u\")\n",
    "    letter=letter.lower()\n",
    "    if letter in vowels:\n",
    "        return True\n",
    "    else:\n",
    "        return False\n",
    "\n",
    "#Step 2: Evaluate word for vowels and translate for piglatin\n",
    "\n",
    "def evaluateword (word):\n",
    "    letter=word[0]\n",
    "    if vowelcheck(letter)==True:\n",
    "        pl_translation=word+\"yay\"\n",
    "        print(word)\n",
    "    else:\n",
    "        for letter in word:\n",
    "            if vowelcheck(letter)!=True:\n",
    "                pl_translation= None\n",
    "            else:\n",
    "                for letter in word: \n",
    "                    if vowelcheck(letter)==True:\n",
    "                        slice_position=word.index(letter)\n",
    "                        starting_letters=word[slice_position::1]\n",
    "                        ending_letters=word[:slice_position:1]\n",
    "                        pl_translation=starting_letters+ending_letters+\"ay\"\n",
    "    #                     print(pl_translation)\n",
    "                        break\n",
    "    return pl_translation\n",
    "\n",
    "#Step 3: Set up an input function to get the word\n",
    "\n",
    "def main():\n",
    "    word=input(\"Enter word:  \")\n",
    "    word=word.lower()\n",
    "    if len(word)>1 and word.isalpha():\n",
    "        result=evaluateword(word)\n",
    "        print(\"The piglatin translation: {}.\".format(result))\n",
    "    else:\n",
    "        print(\"{} is not a valid word. Please enter another word.\".format(word))\n",
    "    "
   ]
  },
  {
   "cell_type": "code",
   "execution_count": 149,
   "metadata": {},
   "outputs": [
    {
     "name": "stdout",
     "output_type": "stream",
     "text": [
      "Enter word:  fjfjf\n",
      "The piglatin translation: None.\n"
     ]
    }
   ],
   "source": [
    "main()\n",
    "\n"
   ]
  },
  {
   "cell_type": "code",
   "execution_count": null,
   "metadata": {},
   "outputs": [],
   "source": []
  },
  {
   "cell_type": "code",
   "execution_count": null,
   "metadata": {},
   "outputs": [],
   "source": []
  }
 ],
 "metadata": {
  "kernelspec": {
   "display_name": "Python 3",
   "language": "python",
   "name": "python3"
  },
  "language_info": {
   "codemirror_mode": {
    "name": "ipython",
    "version": 3
   },
   "file_extension": ".py",
   "mimetype": "text/x-python",
   "name": "python",
   "nbconvert_exporter": "python",
   "pygments_lexer": "ipython3",
   "version": "3.7.1"
  }
 },
 "nbformat": 4,
 "nbformat_minor": 2
}
