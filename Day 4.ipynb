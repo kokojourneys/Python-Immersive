{
 "cells": [
  {
   "cell_type": "code",
   "execution_count": null,
   "metadata": {},
   "outputs": [],
   "source": [
    "#Agenda\n",
    "#1.) .py files\n",
    "#2.) lambda/map\n",
    "#3.) dictionaries: word | counting exercise (article.txt)\n",
    "#4.) algorithms/Big O (how to talk about the speed of programs)"
   ]
  },
  {
   "cell_type": "code",
   "execution_count": 14,
   "metadata": {},
   "outputs": [
    {
     "name": "stdout",
     "output_type": "stream",
     "text": [
      "[16, 5, 2, 3, 4]\n",
      "25\n",
      "[256, 25, 4, 9, 16]\n"
     ]
    }
   ],
   "source": [
    "#lambda/map\n",
    "\n",
    "alist=[1,5,2,3,4]\n",
    "\n",
    "alist[0] = 8\n",
    "\n",
    "alist [0] =alist[0] *2\n",
    "\n",
    "print(alist)\n",
    "\n",
    "#Map takes a function and repeats it\n",
    "\n",
    "def square(number):\n",
    "    number = number **2\n",
    "    return number\n",
    "\n",
    "print(square(5))\n",
    "\n",
    "blist=list(map(square,alist)) #it works like a for loop but it makes things easier, when you're trying to do something\n",
    "                        # within a list and applies your function to it. \n",
    "\n",
    "print(blist)\n",
    "\n"
   ]
  },
  {
   "cell_type": "code",
   "execution_count": 19,
   "metadata": {},
   "outputs": [
    {
     "name": "stdout",
     "output_type": "stream",
     "text": [
      "49\n",
      "[1, 4, 9, 16, 25]\n"
     ]
    }
   ],
   "source": [
    "#LAMBDA - anonymous function - map applies the function to each item in the list; lambda saves time\n",
    "\n",
    "\n",
    "def square(number):\n",
    "    return number**2\n",
    "\n",
    "print(square(7))\n",
    "\n",
    "lambda number : number **2 #return is not an errorm it's essentially telling you that it's a function \n",
    "#function no name, takes a number and gives you a number squared\n",
    "#lambda what is passed in: what you want to return\n",
    "#lambda in:out\n",
    "\n",
    "alist=[1,2,3,4,5]\n",
    "\n",
    "#both are equal; lambda is used so you don't have unnecessary functions sitting in memory and reduces counting\n",
    "# blist = list(map(square.alist))\n",
    "blist = list(map(lambda number:number**2,alist))\n",
    "print(blist)"
   ]
  },
  {
   "cell_type": "code",
   "execution_count": 25,
   "metadata": {},
   "outputs": [
    {
     "data": {
      "text/plain": [
       "['KANGAROO', 'ELK', 'BICYCLE']"
      ]
     },
     "execution_count": 25,
     "metadata": {},
     "output_type": "execute_result"
    }
   ],
   "source": [
    "#LAMBDA EXAMPLE\n",
    "\n",
    "list_of_words = [\"kangaroo\",\"elk\",\"bicycle\"]\n",
    "\n",
    "def uppercase (word):\n",
    "    return word.upper()\n",
    "\n",
    "#to make the letters capitalized\n",
    "list(map(str.upper,list_of_words))\n",
    "\n",
    "# lambda word:word.upper(),list_of_words - lambda statement to incorporate\n",
    "\n",
    "list(map(lambda word:word.upper(),list_of_words))\n",
    "\n"
   ]
  },
  {
   "cell_type": "code",
   "execution_count": 30,
   "metadata": {},
   "outputs": [
    {
     "data": {
      "text/plain": [
       "[1, 2, 'Fizz', 4, 'Buzz', 'Fizz', 7, 8, 'Fizz', 'Buzz']"
      ]
     },
     "execution_count": 30,
     "metadata": {},
     "output_type": "execute_result"
    }
   ],
   "source": [
    "#MAP EXAMPLE\n",
    "\n",
    "def fizzbuzz(x): \n",
    "    if x % 3 == 0 and x % 5 ==0:\n",
    "        return \"FizzBuzz\"\n",
    "    elif x % 3  == 0:\n",
    "        return \"Fizz\"\n",
    "    elif x % 5 == 0:\n",
    "        return \"Buzz\"\n",
    "    else:\n",
    "        return x\n",
    "\n",
    "    \n",
    "alist = [1,2,3,4,5,6,7,8,9,10]\n",
    "list(map(fizzbuzz,alist))\n",
    "\n"
   ]
  },
  {
   "cell_type": "code",
   "execution_count": 44,
   "metadata": {},
   "outputs": [
    {
     "name": "stdout",
     "output_type": "stream",
     "text": [
      "['this', 'is', 'a', 'sentence.', 'and', 'another', 'sentence']\n",
      "{'this': 1, 'is': 1, 'a': 1, 'sentence.': 1, 'and': 1, 'another': 1, 'sentence': 1}\n"
     ]
    },
    {
     "data": {
      "text/plain": [
       "'apple'"
      ]
     },
     "execution_count": 44,
     "metadata": {},
     "output_type": "execute_result"
    }
   ],
   "source": [
    "#open a file\n",
    "\n",
    "with open(\"article.txt\") as file:\n",
    "    article=file.read()\n",
    "#     print(article)\n",
    "    #     print(file.read())\n",
    "    \n",
    "    \n",
    "# with open(\"article.txt\") as file:\n",
    "#     print(file) - text wrapper\n",
    "\n",
    "#regular expression is a way to look for text in a file\n",
    "\n",
    "#this is how you would split the sentence.  It doesn't recognize that a period needs to be seperated.  That is why\n",
    "# sentence. and sentence would be two different words.  \n",
    "# to remove characters, you would have to strip the data\n",
    "# also teh sentence split would have to be saved as a list in order to work with it later. \n",
    "\n",
    "sentence = \"this is a sentence. and another sentence\"\n",
    "list_of_words = sentence.split()\n",
    "print(list_of_words)\n",
    "\n",
    "#use dictionary to do count: \n",
    "count_of_words = {}\n",
    "for word in list_of_words: \n",
    "    if word not in count_of_words:\n",
    "        count_of_words[word] = 1\n",
    "    else: \n",
    "        count_of_words[word] += 1\n",
    "\n",
    "print(count_of_words)\n",
    "\n",
    "#remove and replace something\n",
    "#the word you want to look at (old), and what you want to replace it with (new).  Remember the periods. \n",
    "word=\"apple...\"\n",
    "word.replace(\".\",\"\")"
   ]
  },
  {
   "cell_type": "code",
   "execution_count": 237,
   "metadata": {},
   "outputs": [
    {
     "name": "stdout",
     "output_type": "stream",
     "text": [
      "[('the', 275), ('and', 144), ('to', 133), ('a', 122), ('of', 114), ('in', 91), ('that', 67), ('is', 59), ('it', 57), ('says', 55)]\n",
      "The word 'the' occurs 275 times\n",
      "The word 'and' occurs 144 times\n",
      "The word 'to' occurs 133 times\n",
      "The word 'a' occurs 122 times\n",
      "The word 'of' occurs 114 times\n",
      "The word 'in' occurs 91 times\n",
      "The word 'that' occurs 67 times\n",
      "The word 'is' occurs 59 times\n",
      "The word 'it' occurs 57 times\n",
      "The word 'says' occurs 55 times\n"
     ]
    }
   ],
   "source": [
    "#FILE AND MAP EXERCISE With Article: \n",
    "\n",
    "#1.) get the list of words form a large string (article) - SPLIT\n",
    "#2.) Remove the punctuation from words (write FUNCTION to clean and MAP to every word)\n",
    "#3.) Get how many times each word occurs. (use DICTIONARY to COUNT words)\n",
    "#4.) From that, figure out top 10 most common words. \n",
    "\n",
    "#Step 1:  Open File\n",
    "\n",
    "with open(\"article.txt\") as file:\n",
    "    article=file.read()\n",
    "\n",
    "#STEP 2: lower case everything\n",
    "article_text =article.lower()\n",
    "\n",
    "#STEP 3: convert to list\n",
    "article_text = (article_text.split())\n",
    "# print(article_text)\n",
    "\n",
    "# #STEP 4: Remove punctuations\n",
    "# punct_list =[\".\",\",\",\";\",\"!\",\"/\",\"-\",\"(\",\")\",\"#\",\"@\",\"*\",\"?\",\"\\\"]\n",
    "\n",
    "def lettercheck (word):\n",
    "    for letter in word:\n",
    "        if not letter.isalpha() and not letter.isdigit() and letter !=\"\": \n",
    "             word = word.replace(letter,\"\")\n",
    "    return word\n",
    "\n",
    "#STEP 5: Update to new list of article words and map\n",
    "\n",
    "list_of_article_words=list(map(lettercheck,article_text))\n",
    "# print(list_of_article_words)\n",
    "\n",
    "#STEP 4: Create a dictionary that shows you the word a\n",
    "\n",
    "def countwords (list_of_article_words):\n",
    "    d={}\n",
    "    for word in list_of_article_words:\n",
    "        if word not in d:\n",
    "            d[word]=1\n",
    "        else: \n",
    "            d[word]+=1\n",
    "    return d\n",
    "\n",
    "d1 = countwords(list_of_article_words)\n",
    "# print(d1.items())\n",
    "\n",
    "# print(d1)\n",
    "\n",
    "#STEP 5: Covert to items and number list (tuple) and convert to new list\n",
    "\n",
    "words_count = list(d1.items())\n",
    "#list name  =   creating a list of items in the dictionary\n",
    "\n",
    "# # print(words_count)\n",
    "# for elements in words_count:\n",
    "#     print(elements)\n",
    "\n",
    "\n",
    "#STEP 6:  Sort and Rank: Top 10\n",
    "\n",
    "words_count.sort(key = lambda tup:tup[1], reverse = True)\n",
    "#lists sorted (by key when tuple second value, in decending order (ascending is the default))\n",
    "# this returns all the values by the number of words in decending order\n",
    "\n",
    "top10 = words_count[0:10:1]   #this is looking at a range\n",
    "print (top10)\n",
    "\n",
    "\n",
    "#STEP 7: Printing\n",
    "\n",
    "for tup in top10: \n",
    "    print(\"The word '{}' occurs {} times\".format(tup[0],tup[1]))\n",
    "    #NOTE: print     tup 0      tup1 .    format/draw from here \n",
    "        \n",
    "\n"
   ]
  },
  {
   "cell_type": "code",
   "execution_count": 146,
   "metadata": {},
   "outputs": [
    {
     "name": "stdout",
     "output_type": "stream",
     "text": [
      "apple\n"
     ]
    }
   ],
   "source": [
    "word = \"apple...!?\"\n",
    "\n",
    "punctuation = [\".\",\"!\",\",\",\"?\"]\n",
    "\n",
    "for punc in punctuation:\n",
    "    word = word.replace(punc,\"\")\n",
    "\n",
    "print(word)"
   ]
  },
  {
   "cell_type": "code",
   "execution_count": 91,
   "metadata": {},
   "outputs": [],
   "source": [
    "word = \"apple...!?\"\n",
    "\n",
    "def word_cleaner(word):\n",
    "    punctuation = [\".\",\"!\",\",\",\"?\"]\n",
    "\n",
    "    for punc in punctuation:\n",
    "        word = word.replace(punc,\"\")\n",
    "\n",
    "    return(word)\n",
    "\n",
    "\n",
    "list_word_words = [\"apple.\",\"hello?\",\"what!\"]\n",
    "list_of_words = list(map(word_cleaner,list_of_words))\n",
    "\n",
    "# word_cleaner(\"hi.??!!!\")\n",
    "#list(map(function,alist))"
   ]
  },
  {
   "cell_type": "code",
   "execution_count": 111,
   "metadata": {},
   "outputs": [
    {
     "name": "stdout",
     "output_type": "stream",
     "text": [
      "[('Zack', 1282828181), ('Tommy', 82272727272), ('Luke', 28828282282)]\n"
     ]
    }
   ],
   "source": [
    "#Getting Keys: \n",
    "\n",
    "d2={}\n",
    "\n",
    "d2[\"Zack\"] = 1282828181\n",
    "d2[\"Tommy\"] = 82272727272\n",
    "d2[\"Luke\"] = 28828282282\n",
    "\n",
    "#list of keys\n",
    "d2.keys() \n",
    "\n",
    "#list of values\n",
    "d2.values()\n",
    "\n",
    "#List of tuples of \n",
    "d2.items()\n",
    "\n",
    "#These can be converted into list by name = list(d2.items())\n",
    "list_of_names=list(d2.items())\n",
    "print(list_of_names)\n",
    "\n",
    "#items can be sorted, but it defaults to the first item)\n"
   ]
  },
  {
   "cell_type": "code",
   "execution_count": 161,
   "metadata": {},
   "outputs": [
    {
     "name": "stdout",
     "output_type": "stream",
     "text": [
      "10\n"
     ]
    }
   ],
   "source": [
    "#BIG O NOTATION: \n",
    "\n",
    "\n",
    "#add all the numbers in a list and sum\n",
    "alist=[1,2,3,4]\n",
    "total =0\n",
    "\n",
    "for number in alist:\n",
    "    total= total + number\n",
    "print(total)\n",
    "    \n",
    "#N is length of the list  \n",
    "\n",
    "#big O notation:  O(N) - Operating length of time is dependent on N (your list) - running in N time \n",
    "#when notating you're putting in the longest time "
   ]
  },
  {
   "cell_type": "code",
   "execution_count": 190,
   "metadata": {},
   "outputs": [
    {
     "name": "stdout",
     "output_type": "stream",
     "text": [
      "\t1\t2\t3\t4\t5\t6\t7\t8\t9\t10\t\n",
      "1\t1\t2\t3\t4\t5\t6\t7\t8\t9\t10\t\n",
      "2\t2\t4\t6\t8\t10\t12\t14\t16\t18\t20\t\n",
      "3\t3\t6\t9\t12\t15\t18\t21\t24\t27\t30\t\n",
      "4\t4\t8\t12\t16\t20\t24\t28\t32\t36\t40\t\n",
      "5\t5\t10\t15\t20\t25\t30\t35\t40\t45\t50\t\n",
      "6\t6\t12\t18\t24\t30\t36\t42\t48\t54\t60\t\n",
      "7\t7\t14\t21\t28\t35\t42\t49\t56\t63\t70\t\n",
      "8\t8\t16\t24\t32\t40\t48\t56\t64\t72\t80\t\n",
      "9\t9\t18\t27\t36\t45\t54\t63\t72\t81\t90\t\n",
      "10\t10\t20\t30\t40\t50\t60\t70\t80\t90\t100\t\n"
     ]
    }
   ],
   "source": [
    "blist = [1,2,3,4,5,6,7,8,9,10]\n",
    "\n",
    "print(\"\\t\",end=\"\")\n",
    "for i in blist: \n",
    "    print(i,end=\"\\t\") #<-------- printed 10 time (running on N time)\n",
    "print(\"\")\n",
    "\n",
    "for j in blist:\n",
    "    print (j,end=\"\\t\") #<----------printed 10 times (running on N time)\n",
    "    for i in blist:\n",
    "        print (i*j, end=\"\\t\") #<----------- printed 10 times (running on N time)\n",
    "    print(\"\")\n",
    "    \n",
    "# O(N^3)      \n",
    "#each for loop on a list of the same size, it's goes up by one level exponentially "
   ]
  },
  {
   "cell_type": "code",
   "execution_count": 203,
   "metadata": {},
   "outputs": [
    {
     "name": "stdout",
     "output_type": "stream",
     "text": [
      "{1: 1}\n",
      "{2: 1}\n",
      "{4: 1}\n",
      "{1: 1}\n",
      "{7: 1}\n",
      "{1: 1}\n"
     ]
    }
   ],
   "source": [
    "alist=[1,2,4,1,7,1]\n",
    "\n",
    "for number in alist:\n",
    "    d={}\n",
    "    if number in alist:\n",
    "        d[number] = 1\n",
    "    else: \n",
    "        d[number]+=1\n",
    "    print (d)\n",
    "     "
   ]
  },
  {
   "cell_type": "code",
   "execution_count": 205,
   "metadata": {},
   "outputs": [
    {
     "name": "stdout",
     "output_type": "stream",
     "text": [
      "a= 5\n",
      "b= 7\n"
     ]
    }
   ],
   "source": [
    "#Bubble Sort\n",
    "# it goes throught the list (n=length of list) - 1 times when it's ascending or decending order and \n",
    "# you have to reverse it\n",
    "# n**2\n",
    "\n",
    "#Swap Sort:\n",
    "#it compares two adjacent values and compares and determines order\n",
    "\n",
    "a=7\n",
    "b=5\n",
    "a,b = b,a  #<=====swap sort code\n",
    "print(\"a=\",a)\n",
    "print(\"b=\",b)"
   ]
  },
  {
   "cell_type": "code",
   "execution_count": 209,
   "metadata": {},
   "outputs": [
    {
     "name": "stdout",
     "output_type": "stream",
     "text": [
      "0\n",
      "hello\n",
      "1\n",
      "hello\n",
      "2\n",
      "hello\n",
      "3\n",
      "hello\n"
     ]
    }
   ],
   "source": [
    "for i in range(0,4,1):  #<====determines how many times you're running the code\n",
    "    print (i)\n",
    "    print (\"hello\")"
   ]
  },
  {
   "cell_type": "code",
   "execution_count": 245,
   "metadata": {},
   "outputs": [
    {
     "name": "stdout",
     "output_type": "stream",
     "text": [
      "Sorted list: [2, 3, 5, 4, 7, 7]\n"
     ]
    }
   ],
   "source": [
    "#EXERCISE:  BUBBLE SWAP:  Create a single pass program\n",
    "\n",
    "alist=[2,5,3,7,4,7]\n",
    "# .    0,1,2,3,4\n",
    "\n",
    "# print(len(alist))\n",
    "\n",
    "for index in range(0,len(alist)-1,1):\n",
    "                #start, stop, step  \n",
    "                # NOTE: stop is length of list - 1 because each time the loop moves up one\n",
    "#         print(alist[index],index)\n",
    "        if alist[index] > alist[index+1]:\n",
    "                          #NOTE:  Index + 1 works because it allows the shifting of the index number\n",
    "#             print(alist[index])\n",
    "            alist[index],alist[index+1] = alist[index+1],alist[index]\n",
    "print(\"Sorted list:\", alist)\n"
   ]
  },
  {
   "cell_type": "code",
   "execution_count": 252,
   "metadata": {},
   "outputs": [
    {
     "name": "stdout",
     "output_type": "stream",
     "text": [
      "Sorted list: [2, 3, 4, 5, 7]\n"
     ]
    }
   ],
   "source": [
    "#EXERCISE:  BUBBLE SWAP\n",
    "\n",
    "alist=[2,5,3,7,4]\n",
    "\n",
    "def acendorder (alist): \n",
    "    for index in range(0,len(alist)-1,1):\n",
    "            if alist[index] > alist[index+1]:\n",
    "                alist[index],alist[index+1] = alist[index+1],alist[index]\n",
    "    return alist\n",
    "\n",
    "acendorder(alist)\n",
    "\n",
    "print(\"Sorted list:\", acendorder(alist))"
   ]
  },
  {
   "cell_type": "code",
   "execution_count": 255,
   "metadata": {},
   "outputs": [
    {
     "name": "stdout",
     "output_type": "stream",
     "text": [
      "[2, 3, 4, 5, 7]\n"
     ]
    }
   ],
   "source": [
    "for i in range (0,len(alist)-1,1):  #<--------this is saying that you would repeat the one program for one time swap\n",
    "    alist = acendorder((alist))     # and running it as many times as need for the elements of the list.\n",
    "    \n",
    "print(alist)"
   ]
  },
  {
   "cell_type": "code",
   "execution_count": 5,
   "metadata": {},
   "outputs": [
    {
     "name": "stdout",
     "output_type": "stream",
     "text": [
      "End number: 100\n",
      "[2, 3, 0, 5, 0, 7, 0, 0, 0, 11, 0, 13, 0, 0, 0, 17, 0, 19, 0, 0, 0, 23, 0, 0, 0, 0, 0, 29, 0, 31, 0, 0, 0, 0, 0, 37, 0, 0, 0, 41, 0, 43, 0, 0, 0, 47, 0, 0, 0, 0, 0, 53, 0, 0, 0, 0, 0, 59, 0, 61, 0, 0, 0, 0, 0, 67, 0, 0, 0, 71, 0, 73, 0, 0, 0, 0, 0, 79, 0, 0, 0, 83, 0, 0, 0, 0, 0, 89, 0, 0, 0, 0, 0, 0, 0, 97, 0, 0, 0]\n"
     ]
    }
   ],
   "source": [
    "# Exercise 3.\n",
    "# The Sieve of Eratosthenes is a technique that was developed more than 2,000 years ago to easily \n",
    "# find all of the prime numbers between 2 and some limit, say 100.\n",
    "# https://en.wikipedia.org/wiki/Sieve_of_Eratosthenes\n",
    "\n",
    "# A description of the algorithm follows:\n",
    "    # Write down all of the numbers from 0 to the limit Cross out 0 and 1 because they are not prime\n",
    "    # Set p equal to 2\n",
    "    # While p is less than the limit do\n",
    "    # Cross out all multiples of p (but not p itself)\n",
    "    # Set p equal to the next number in the list that is not crossed out\n",
    "    # Report all of the numbers that have not been crossed out as prime\n",
    "\n",
    "# The key to this algorithm is that it is relatively easy to cross out every nth number on a piece of paper. \n",
    "# This is also an easy task for a computer—a for loop can simulate this behavior when a third parameter is \n",
    "# provided to the range function. When a number is crossed out, we know that it is no longer prime, but \n",
    "# it still occupies space on the piece of paper, and must still be considered when computing later prime numbers. \n",
    "# As a result, you should not simulate crossing out a number by removing it from the list. Instead, you should \n",
    "# simulate crossing out a number by replacing it with 0. Then, once the algorithm completes, all of the non-zero \n",
    "# values in the list are prime.\n",
    "\n",
    "# Create a Python program that uses this algorithm to display all of the prime numbers between 2 and a limit \n",
    "# entered by the user. If you implement the algorithm correctly you should be able to display all of the prime \n",
    "# numbers less than 1,000,000 in a few seconds.\n",
    "\n",
    "\n",
    "\n",
    "\n",
    "\n",
    "range_stop = int(input(\"End number: \"))\n",
    "p=2\n",
    "range_start=p+1\n",
    "primelist=[2]\n",
    "\n",
    "\n",
    "\n",
    "for n in range(range_start,range_stop+1,1):\n",
    "    if n in primelist:\n",
    "        isprime = False\n",
    "    for m in primelist:\n",
    "        if m !=0 and n % m ==0:\n",
    "            isprime = False\n",
    "            break\n",
    "        else: \n",
    "            isprime = True\n",
    "            \n",
    "    if isprime == True:\n",
    "        primelist.append(n)\n",
    "    else: \n",
    "        primelist.append(0)\n",
    "\n",
    "print(primelist)\n",
    "\n",
    "        "
   ]
  },
  {
   "cell_type": "code",
   "execution_count": null,
   "metadata": {},
   "outputs": [],
   "source": [
    "myprimes=[2,3]\n",
    "end_number = int(input(\"Enter number:  \"))\n",
    "for n in range (4,end_number+1,1):\n",
    "    isprime = False\n",
    "    for m in myprimes:\n",
    "        if m!=0 and n%m ==0:\n",
    "            isprime = False\n",
    "            break\n",
    "        else: \n",
    "            isprime = True\n",
    "    \n",
    "    if isprime == True:\n",
    "        myprimes.append(n)\n",
    "    else: \n",
    "        myprimes.append(0)\n",
    "\n",
    "print(myprimes)\n",
    "    "
   ]
  },
  {
   "cell_type": "code",
   "execution_count": null,
   "metadata": {},
   "outputs": [],
   "source": []
  },
  {
   "cell_type": "code",
   "execution_count": null,
   "metadata": {},
   "outputs": [],
   "source": []
  },
  {
   "cell_type": "code",
   "execution_count": null,
   "metadata": {},
   "outputs": [],
   "source": []
  },
  {
   "cell_type": "code",
   "execution_count": null,
   "metadata": {},
   "outputs": [],
   "source": []
  },
  {
   "cell_type": "code",
   "execution_count": null,
   "metadata": {},
   "outputs": [],
   "source": [
    "\n"
   ]
  },
  {
   "cell_type": "code",
   "execution_count": null,
   "metadata": {},
   "outputs": [],
   "source": []
  },
  {
   "cell_type": "code",
   "execution_count": null,
   "metadata": {},
   "outputs": [],
   "source": []
  }
 ],
 "metadata": {
  "kernelspec": {
   "display_name": "Python 3",
   "language": "python",
   "name": "python3"
  },
  "language_info": {
   "codemirror_mode": {
    "name": "ipython",
    "version": 3
   },
   "file_extension": ".py",
   "mimetype": "text/x-python",
   "name": "python",
   "nbconvert_exporter": "python",
   "pygments_lexer": "ipython3",
   "version": "3.7.1"
  }
 },
 "nbformat": 4,
 "nbformat_minor": 2
}
