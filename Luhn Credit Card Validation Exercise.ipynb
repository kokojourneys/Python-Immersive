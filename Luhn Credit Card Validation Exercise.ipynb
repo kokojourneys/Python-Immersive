{
 "cells": [
  {
   "cell_type": "code",
   "execution_count": null,
   "metadata": {},
   "outputs": [],
   "source": [
    "# Credit Card.\n",
    "    # Using the Luhn Algorithm , we will be determining the validity of a given credit card number.\n",
    "    # http://en.wikipedia.org/wiki/Luhn_algorithm\n",
    "\n",
    "# We want to create three main functions - card_number, card_type, and valid.\n",
    "# There are three functions:\n",
    "    \n",
    "    # 1.) determine_card_type should check whether or not the credit card has valid starting numbers and \n",
    "    #     return the card type.\n",
    "        # Visa must start with 4\n",
    "        # Mastercard must start with 51, 52, 53, 54 or 55\n",
    "        # AMEX must start with 34 or 37\n",
    "        # Discover must start with 6011\n",
    "    \n",
    "    # 2.) check_length should check whether or not a credit card number is a valid length.\n",
    "        # Visa, MC and Discover have 16 digits\n",
    "        # AMEX has 15\n",
    "    \n",
    "    # 3.) validate should run the Luhn Algorithm and return true or false.\n",
    "\n",
    "# The Algorithm\n",
    "    # From the right most digit, double the value of every second digit. For example:\n",
    "        # 4 4 8 5 0 4 0 9 9 3 2 8 7 6 1 6\n",
    "        # becomes\n",
    "        # 8 4 16 5 0 4 0 9 18 3 4 8 14 6 2 6\n",
    "\n",
    "    # Now, sum all the individual digits together. That is to say, split any numbers with two digits \n",
    "    # into their individual digits and add them. Like so:\n",
    "        # 8 + 4 + 1 + 6 + 5 + 0 + 4 + 0 + 9 + 1 + 8 + 3 + 4 + 8 + 1 + 4 + 6 + 2 + 6\n",
    "\n",
    "# Now take the sum of those numbers and divide by 10.\n",
    "    # If the result is 0, the credit card number is valid.\n",
    "\n",
    "# Keep your code super clean and DRY.\n",
    "    # If you are repeating yourself, stop and think about how to better approach the problem."
   ]
  },
  {
   "cell_type": "code",
   "execution_count": 55,
   "metadata": {},
   "outputs": [],
   "source": [
    "class Creditcardvalidator:\n",
    "    def __init__(self,creditcard):\n",
    "        self.cardnumber = creditcard\n",
    "        self.lengthofcard = self.lengthcheck()\n",
    "        self.cardtype = self.typecheck()\n",
    "        self.luhntest = self.luhn()\n",
    "      #This is part of the innit  \n",
    "    \n",
    "        if self.lengthofcard and self.cardtype !=\"Not Valid\" and self.luhntest:\n",
    "            self.valid = True\n",
    "        else:\n",
    "            self.valid = False\n",
    "\n",
    "    def lengthcheck(self):\n",
    "        if len(self.cardnumber) ==16 or len(self.cardnumber)==15:\n",
    "            return True\n",
    "        else:\n",
    "            return False\n",
    "\n",
    "\n",
    "    def typecheck (self):\n",
    "        if self.cardnumber[0] == \"4\":\n",
    "            credtype = \"Visa\"\n",
    "        elif self.cardnumber[0:2] in [\"51\",\"52\",\"53\",\"54\",\"55\"]:\n",
    "            credtype = \"Mastercard\"\n",
    "        elif self.cardnumber[0:2] in [\"34\",\"37\"]:\n",
    "            credtype = \"AMEX\"\n",
    "        elif self.cardnumber[0:4] in [\"6011\"]:\n",
    "            credtype = \"Discover\"\n",
    "        else:\n",
    "            credtype = \"Not Valid\"\n",
    "        return credtype\n",
    "    \n",
    "    def luhn (self):\n",
    "        evens=self.cardnumber [-2::-2]\n",
    "        odds =self.cardnumber [-1::-2]\n",
    "        total = 0\n",
    "        for number in odds:\n",
    "            number = int(number)\n",
    "            total=number + total\n",
    "        for number in evens:\n",
    "            number = int(number)\n",
    "            number = number*2\n",
    "            if number > 9:\n",
    "                number = str(number)\n",
    "                for digit in number:\n",
    "                    digit=int(digit)\n",
    "                    total=digit+total\n",
    "            else: \n",
    "                total=total + number\n",
    "        if total %10 ==0:\n",
    "            return True\n",
    "        else: \n",
    "            return False\n",
    "\n",
    "cc1= Creditcardvalidator(\"5515460934365316\")\n",
    "cc2= Creditcardvalidator (\"6011053711075799\")\n",
    "cc3= Creditcardvalidator(\"4929896355493470\")\n",
    "cc4= Creditcardvalidator(\"341640057061013\")\n"
   ]
  },
  {
   "cell_type": "code",
   "execution_count": 14,
   "metadata": {},
   "outputs": [],
   "source": [
    "cc = Creditcardvalidator(\"5515460934365316\")"
   ]
  },
  {
   "cell_type": "code",
   "execution_count": 15,
   "metadata": {},
   "outputs": [
    {
     "data": {
      "text/plain": [
       "True"
      ]
     },
     "execution_count": 15,
     "metadata": {},
     "output_type": "execute_result"
    }
   ],
   "source": [
    "cc.lengthofcard"
   ]
  },
  {
   "cell_type": "code",
   "execution_count": 16,
   "metadata": {},
   "outputs": [
    {
     "data": {
      "text/plain": [
       "'5515460934365316'"
      ]
     },
     "execution_count": 16,
     "metadata": {},
     "output_type": "execute_result"
    }
   ],
   "source": [
    "cc.cardnumber"
   ]
  },
  {
   "cell_type": "code",
   "execution_count": 17,
   "metadata": {},
   "outputs": [
    {
     "data": {
      "text/plain": [
       "'Mastercard'"
      ]
     },
     "execution_count": 17,
     "metadata": {},
     "output_type": "execute_result"
    }
   ],
   "source": [
    "cc.cardtype"
   ]
  },
  {
   "cell_type": "code",
   "execution_count": 49,
   "metadata": {},
   "outputs": [
    {
     "name": "stdout",
     "output_type": "stream",
     "text": [
      "5515460934365316\n",
      "15330415\n",
      "63649655\n",
      "44\n",
      "2\n",
      "10\n",
      "6\n",
      "6\n",
      "0\n",
      "8\n",
      "2\n",
      "10\n",
      "70\n"
     ]
    }
   ],
   "source": [
    "creditcard=(cc.cardnumber)\n",
    "print(creditcard)\n",
    "total=0\n",
    "\n",
    "evens=creditcard [-2::-2]\n",
    "print(evens)\n",
    "\n",
    "odds =creditcard [-1::-2]\n",
    "print(odds)\n",
    "\n",
    "for number in odds:\n",
    "    number = int(number)\n",
    "    total=number + total\n",
    "print(total)\n",
    "\n",
    "for number in evens:\n",
    "    number = int(number)\n",
    "    number = number*2\n",
    "    print(number)\n",
    "    if number > 9:\n",
    "        number = str(number)\n",
    "        for digit in number:\n",
    "            digit=int(digit)\n",
    "            total=digit+total\n",
    "    else: \n",
    "        total=total + number\n",
    "print(total)\n",
    "\n"
   ]
  },
  {
   "cell_type": "code",
   "execution_count": null,
   "metadata": {},
   "outputs": [],
   "source": [
    "def luhn (self):\n",
    "    evens=self.cardnumber [-2::-2]\n",
    "    odds =self.cardnumber [-1::-2]\n",
    "    total = 0\n",
    "    for number in odds:\n",
    "        number = int(number)\n",
    "        total=number + total\n",
    "    for number in evens:\n",
    "        number = int(number)\n",
    "        number = number*2\n",
    "        if number > 9:\n",
    "            number = str(number)\n",
    "            for digit in number:\n",
    "                digit=int(digit)\n",
    "                total=digit+total\n",
    "        else: \n",
    "            total=total + number\n",
    "    if total %10 ==0:\n",
    "        return True\n",
    "    else: \n",
    "        return False"
   ]
  },
  {
   "cell_type": "code",
   "execution_count": null,
   "metadata": {},
   "outputs": [],
   "source": []
  }
 ],
 "metadata": {
  "kernelspec": {
   "display_name": "Python 3",
   "language": "python",
   "name": "python3"
  },
  "language_info": {
   "codemirror_mode": {
    "name": "ipython",
    "version": 3
   },
   "file_extension": ".py",
   "mimetype": "text/x-python",
   "name": "python",
   "nbconvert_exporter": "python",
   "pygments_lexer": "ipython3",
   "version": "3.7.1"
  }
 },
 "nbformat": 4,
 "nbformat_minor": 2
}
