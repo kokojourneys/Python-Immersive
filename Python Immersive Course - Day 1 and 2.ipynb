{
 "cells": [
  {
   "cell_type": "code",
   "execution_count": 1,
   "metadata": {},
   "outputs": [
    {
     "data": {
      "text/plain": [
       "'catApple'"
      ]
     },
     "execution_count": 1,
     "metadata": {},
     "output_type": "execute_result"
    }
   ],
   "source": [
    "\"cat\"+\"Apple\""
   ]
  },
  {
   "cell_type": "code",
   "execution_count": 2,
   "metadata": {},
   "outputs": [
    {
     "name": "stdout",
     "output_type": "stream",
     "text": [
      "Please enter the length:  ewe\n"
     ]
    },
    {
     "ename": "ValueError",
     "evalue": "invalid literal for int() with base 10: 'ewe'",
     "output_type": "error",
     "traceback": [
      "\u001b[0;31m---------------------------------------------------------------------------\u001b[0m",
      "\u001b[0;31mValueError\u001b[0m                                Traceback (most recent call last)",
      "\u001b[0;32m<ipython-input-2-caba11912f75>\u001b[0m in \u001b[0;36m<module>\u001b[0;34m\u001b[0m\n\u001b[1;32m      1\u001b[0m \u001b[0mlength\u001b[0m \u001b[0;34m=\u001b[0m \u001b[0minput\u001b[0m \u001b[0;34m(\u001b[0m\u001b[0;34m\"Please enter the length:  \"\u001b[0m\u001b[0;34m)\u001b[0m\u001b[0;34m\u001b[0m\u001b[0;34m\u001b[0m\u001b[0m\n\u001b[0;32m----> 2\u001b[0;31m \u001b[0mlength\u001b[0m \u001b[0;34m=\u001b[0m \u001b[0mint\u001b[0m\u001b[0;34m(\u001b[0m\u001b[0mlength\u001b[0m\u001b[0;34m)\u001b[0m\u001b[0;34m\u001b[0m\u001b[0;34m\u001b[0m\u001b[0m\n\u001b[0m\u001b[1;32m      3\u001b[0m \u001b[0mprint\u001b[0m\u001b[0;34m(\u001b[0m\u001b[0mlength\u001b[0m\u001b[0;34m)\u001b[0m\u001b[0;34m\u001b[0m\u001b[0;34m\u001b[0m\u001b[0m\n\u001b[1;32m      4\u001b[0m \u001b[0mprint\u001b[0m\u001b[0;34m(\u001b[0m\u001b[0mtype\u001b[0m\u001b[0;34m(\u001b[0m\u001b[0mlength\u001b[0m\u001b[0;34m)\u001b[0m\u001b[0;34m)\u001b[0m\u001b[0;34m\u001b[0m\u001b[0;34m\u001b[0m\u001b[0m\n",
      "\u001b[0;31mValueError\u001b[0m: invalid literal for int() with base 10: 'ewe'"
     ]
    }
   ],
   "source": [
    "length = input (\"Please enter the length:  \")\n",
    "length = int(length)\n",
    "print(length)\n",
    "print(type(length))"
   ]
  },
  {
   "cell_type": "code",
   "execution_count": 8,
   "metadata": {},
   "outputs": [
    {
     "name": "stdout",
     "output_type": "stream",
     "text": [
      "Please enter the length:  12.3\n",
      "Please enter the width:  14.5\n",
      "178.35000000000002 feet\n"
     ]
    }
   ],
   "source": [
    "length = input(\"Please enter the length:  \")\n",
    "length = float(length)\n",
    "width = input (\"Please enter the width:  \")\n",
    "width = float(width)\n",
    "area = length * width\n",
    "print(area,\"feet\")"
   ]
  },
  {
   "cell_type": "code",
   "execution_count": 18,
   "metadata": {},
   "outputs": [
    {
     "name": "stdout",
     "output_type": "stream",
     "text": [
      "What is the cost of the meal?:  50\n",
      "What is the tip amount?:  20\n",
      "What is the tax rate?:  5\n",
      "meal cost= 50.0\n",
      "tip amount= 10.0\n",
      "total cost= 62.5\n"
     ]
    }
   ],
   "source": [
    "meal_cost = float(input(\"What is the cost of the meal?:  \"))\n",
    "tip_amount = float(input(\"What is the tip amount?:  \"))/100\n",
    "tax_rate = float(input(\"What is the tax rate?:  \"))/100\n",
    "tip = meal_cost*tip_amount\n",
    "tax = meal_cost*tax_rate\n",
    "total_cost = meal_cost+tip+tax\n",
    "print(\"meal cost=\", meal_cost)\n",
    "print (\"tip amount=\", tip)\n",
    "print (\"total cost=\", total_cost)"
   ]
  },
  {
   "cell_type": "code",
   "execution_count": 25,
   "metadata": {},
   "outputs": [
    {
     "name": "stdout",
     "output_type": "stream",
     "text": [
      "What is your age?:  -18\n",
      "Please use positive numbers only!\n"
     ]
    }
   ],
   "source": [
    "age = int(input(\"What is your age?:  \"))\n",
    "\n",
    "#if condition:\n",
    "# what you want to do\n",
    "\n",
    "if age >=21: \n",
    "    print(\"welcome\")\n",
    "elif age>=0 and age <21: \n",
    "    print (\"you are too young\")\n",
    "else: \n",
    "    print(\"Please use positive numbers only!\")"
   ]
  },
  {
   "cell_type": "code",
   "execution_count": 43,
   "metadata": {},
   "outputs": [
    {
     "name": "stdout",
     "output_type": "stream",
     "text": [
      "what is the weather?:  SUnny\n",
      "go out and play\n"
     ]
    }
   ],
   "source": [
    "weather = input(\"what is the weather?:  \")\n",
    "weather = weather.lower()\n",
    "\n",
    "if weather==\"sunny\":\n",
    "    print (\"go out and play\")\n",
    "elif weather == \"rainy\":\n",
    "    print(\"take an umberella\")\n",
    "else:\n",
    "    print(\"dunno\")"
   ]
  },
  {
   "cell_type": "code",
   "execution_count": 41,
   "metadata": {},
   "outputs": [
    {
     "name": "stdout",
     "output_type": "stream",
     "text": [
      "apple\n"
     ]
    }
   ],
   "source": [
    "word=\"aPPle\"\n",
    "word=word.lower()\n",
    "print(word)\n",
    "#dir to help cases"
   ]
  },
  {
   "cell_type": "code",
   "execution_count": 54,
   "metadata": {},
   "outputs": [
    {
     "data": {
      "text/plain": [
       "'elppa'"
      ]
     },
     "execution_count": 54,
     "metadata": {},
     "output_type": "execute_result"
    }
   ],
   "source": [
    "word = \"apple\"\n",
    "#       01234\n",
    "#       -5,-4,-3,-2,-1\n",
    "#slicing\n",
    "\n",
    "word[4:-6:-1]"
   ]
  },
  {
   "cell_type": "code",
   "execution_count": null,
   "metadata": {},
   "outputs": [],
   "source": [
    "alist=[1,2,3,4,5]\n",
    "# .    0,1,2,3,4\n",
    "\n",
    "list_of_words = [\"apple\", \"snowman\", \"cat\"]\n",
    "# .                0        1         2\n",
    "#List should generally be the same type of values; even though python allows mix data"
   ]
  },
  {
   "cell_type": "code",
   "execution_count": 59,
   "metadata": {},
   "outputs": [
    {
     "data": {
      "text/plain": [
       "['apple']"
      ]
     },
     "execution_count": 59,
     "metadata": {},
     "output_type": "execute_result"
    }
   ],
   "source": [
    "list_of_words = [\"apple\", \"snowman\", \"cat\"]\n",
    "list_of_words [2]\n",
    "list_of_words [0:-2:1]"
   ]
  },
  {
   "cell_type": "code",
   "execution_count": 60,
   "metadata": {},
   "outputs": [],
   "source": [
    "list_of_words [0] = \"kangaroo\""
   ]
  },
  {
   "cell_type": "code",
   "execution_count": 61,
   "metadata": {},
   "outputs": [
    {
     "name": "stdout",
     "output_type": "stream",
     "text": [
      "['kangaroo', 'snowman', 'cat']\n"
     ]
    }
   ],
   "source": [
    "print(list_of_words)"
   ]
  },
  {
   "cell_type": "code",
   "execution_count": 62,
   "metadata": {},
   "outputs": [
    {
     "data": {
      "text/plain": [
       "'a'"
      ]
     },
     "execution_count": 62,
     "metadata": {},
     "output_type": "execute_result"
    }
   ],
   "source": [
    "word=\"apple\"\n",
    "# .   01234\n",
    "word[0]"
   ]
  },
  {
   "cell_type": "code",
   "execution_count": 64,
   "metadata": {},
   "outputs": [
    {
     "data": {
      "text/plain": [
       "'rang'"
      ]
     },
     "execution_count": 64,
     "metadata": {},
     "output_type": "execute_result"
    }
   ],
   "source": [
    "word=\"orange\"\n",
    "# .   012345\n",
    "word[-5:5:1]"
   ]
  },
  {
   "cell_type": "code",
   "execution_count": 65,
   "metadata": {},
   "outputs": [
    {
     "data": {
      "text/plain": [
       "5"
      ]
     },
     "execution_count": 65,
     "metadata": {},
     "output_type": "execute_result"
    }
   ],
   "source": [
    "len(\"apple\")"
   ]
  },
  {
   "cell_type": "code",
   "execution_count": 70,
   "metadata": {},
   "outputs": [
    {
     "name": "stdout",
     "output_type": "stream",
     "text": [
      "6\n",
      "oag\n"
     ]
    }
   ],
   "source": [
    "word=\"orange\"\n",
    "print(len(word))\n",
    "print(word[0:len(word):2])\n"
   ]
  },
  {
   "cell_type": "code",
   "execution_count": 71,
   "metadata": {},
   "outputs": [
    {
     "name": "stdout",
     "output_type": "stream",
     "text": [
      "Hello Tim\n",
      "Hello Art\n",
      "Hello Ryan\n",
      "Hello Christopher\n",
      "Hello Aaron\n",
      "Hello Komal\n"
     ]
    }
   ],
   "source": [
    "list_of_names = [\"Tim\", \"Art\", \"Ryan\", \"Christopher\", \"Aaron\", \"Komal\"]\n",
    "#for var in sequence, name it whatever\n",
    "\n",
    "for name in list_of_names:\n",
    "    print(\"Hello\", name)"
   ]
  },
  {
   "cell_type": "code",
   "execution_count": 73,
   "metadata": {},
   "outputs": [
    {
     "name": "stdout",
     "output_type": "stream",
     "text": [
      "a\n",
      "p\n",
      "p\n",
      "l\n",
      "e\n"
     ]
    }
   ],
   "source": [
    "word =\"apple\"\n",
    "\n",
    "for char in word:\n",
    "    print(char)"
   ]
  },
  {
   "cell_type": "code",
   "execution_count": 75,
   "metadata": {},
   "outputs": [
    {
     "name": "stdout",
     "output_type": "stream",
     "text": [
      "2\n",
      "8\n",
      "32\n",
      "72\n",
      "128\n"
     ]
    }
   ],
   "source": [
    "number=[1,2,4,6,8]\n",
    "\n",
    "for x in number:\n",
    "    x=(x*x)\n",
    "    x=(x*2)\n",
    "    print(x)"
   ]
  },
  {
   "cell_type": "code",
   "execution_count": 77,
   "metadata": {},
   "outputs": [
    {
     "name": "stdout",
     "output_type": "stream",
     "text": [
      "2\n",
      "8\n",
      "0\n",
      "0\n",
      "0\n"
     ]
    }
   ],
   "source": [
    "number=[1,2,4,6,8]\n",
    "\n",
    "for x in number:\n",
    "    x=(x*x)\n",
    "    if x>=10:\n",
    "        x=0\n",
    "    else:\n",
    "        x=(x*2)\n",
    "    print(x)"
   ]
  },
  {
   "cell_type": "code",
   "execution_count": 88,
   "metadata": {},
   "outputs": [
    {
     "name": "stdout",
     "output_type": "stream",
     "text": [
      "3\n"
     ]
    }
   ],
   "source": [
    "# Exercise 1.\n",
    "# Write a function that takes a list of numbers and iterates through each number on a list and \n",
    "# counts all numbers that are equal to 1.\n",
    "# a_list = [1,3,55,1,9,4,56,2,1,8]\n",
    "\n",
    "\n",
    "a_list = [1,3,55,1,9,4,56,2,1,8]\n",
    "tally=0\n",
    "for number in a_list:\n",
    "    if number==1:\n",
    "        tally = tally + 1\n",
    "print(tally)\n",
    "        \n",
    "   "
   ]
  },
  {
   "cell_type": "code",
   "execution_count": 112,
   "metadata": {},
   "outputs": [
    {
     "name": "stdout",
     "output_type": "stream",
     "text": [
      "13\n",
      "12\n"
     ]
    }
   ],
   "source": [
    "# Exercise 2.\n",
    "# Write a Python program that accepts a string and calculate the number of digits and letters. \n",
    "# use: help() to learn how to use isalpha() and isdigit()\n",
    "\n",
    "\n",
    "phrase = \"butterscotch2495458724875\"\n",
    "letters=0\n",
    "numbers=0\n",
    "for character in phrase:\n",
    "    #print(character.isalpha())\n",
    "#     print(phrase)\n",
    "    if character.isalpha():\n",
    "        letters=letters+1\n",
    "    elif character.isdigit():\n",
    "        numbers=numbers+1\n",
    "\n",
    "print(numbers)\n",
    "print(letters)\n"
   ]
  },
  {
   "cell_type": "code",
   "execution_count": 115,
   "metadata": {},
   "outputs": [
    {
     "name": "stdout",
     "output_type": "stream",
     "text": [
      "nohtyp\n",
      "nohtyp\n",
      "neerg\n",
      "wolley\n"
     ]
    }
   ],
   "source": [
    "# Exercise 3.\n",
    "# Lets try to print these words backwards:\n",
    "# python\n",
    "# star\n",
    "# green\n",
    "# yellow\n",
    "\n",
    "\n",
    "word1=\"python\"\n",
    "word2=\"star\"\n",
    "word3=\"green\"\n",
    "word4=\"yellow\"\n",
    "\n",
    "print(word1[-1::-1])\n",
    "print(word1[-1::-1])\n",
    "print(word3[-1::-1])\n",
    "print(word4[-1::-1])\n",
    "\n",
    "#word[-1::-1] - shorthand\n",
    "\n",
    "\n",
    "# mylist = [\"python\", \"star\", \"green\", \"yellow\"]\n",
    "# for listitem in mylist:\n",
    "#     print(listitem)\n",
    "#     print (listitem[::-1])\n",
    "#     #print (listitem[(len(item))::-1])"
   ]
  },
  {
   "cell_type": "code",
   "execution_count": 127,
   "metadata": {},
   "outputs": [
    {
     "name": "stdout",
     "output_type": "stream",
     "text": [
      "What is the temperature in Celsuis?:   -10\n",
      "A cold warning!\n",
      "The temperature in farenheit is 14.0\n"
     ]
    }
   ],
   "source": [
    "# Exercise 4.\n",
    "# Create a Temperature converter, Celsius to Fahrenheit:\n",
    "# 0 degrees Celsius is equal to 32 degrees Fahrenheit:\n",
    "# 0 °C = 32 °F\n",
    "# The temperature T in degrees Fahrenheit (°F) is equal to \n",
    "# the temperature T in degrees Celsius (°C) times 9/5 plus 32:\n",
    "# T(°F) = T(°C) × 9/5 + 32\n",
    "\n",
    "# Example:\n",
    "# Convert 20 degrees Celsius to degrees Fahrenheit:\n",
    "# T(°F) = 20°C × 9/5 + 32 = 68 °F\n",
    "\n",
    "# Add:\n",
    "# if Fahrenheit is more than 90, print statement \"a heat warning\", \n",
    "# if Fahrenheit is less than 30, print statement \"a cold warning\"\n",
    "\n",
    "\n",
    "\n",
    "celsuis=float(input(\"What is the temperature in Celsuis?:   \"))\n",
    "farenheit = float(celsuis*(9/5)+32)\n",
    "if farenheit >90:\n",
    "    print(\"A heat warning!\")\n",
    "elif farenheit <30:\n",
    "    print(\"A cold warning!\")\n",
    "print(\"The temperature in farenheit is\",farenheit)\n"
   ]
  },
  {
   "cell_type": "code",
   "execution_count": 6,
   "metadata": {},
   "outputs": [
    {
     "name": "stdout",
     "output_type": "stream",
     "text": [
      "What is your letter?: A\n",
      "This letter is a vowel.\n"
     ]
    }
   ],
   "source": [
    "#Exercise 5.\n",
    "#In this exercise you will create a program that reads a letter of the alphabet from the user. \n",
    "#If the user enters a, e, i, o or u then your program should display a message indicating that the entered letter \n",
    "#is a vowel. If the user enters y then your program should display a message indicating that sometimes y is a \n",
    "#vowel, and sometimes y is a consonant. Otherwise your program should display a message indicating that the letter\n",
    "#is a consonant.\n",
    "\n",
    "\n",
    "letter=input(\"What is your letter?: \")\n",
    "letter = letter.lower()\n",
    "vowels=\"aeiou\"\n",
    "\n",
    "\n",
    "if letter in vowels:\n",
    "    print(\"This letter is a vowel.\")\n",
    "elif letter ==\"y\":\n",
    "    print(\"This letter is both a vowel and and consanant\")\n",
    "else:\n",
    "    print(\"This letter is a consanant.\")\n",
    "\n"
   ]
  },
  {
   "cell_type": "code",
   "execution_count": 8,
   "metadata": {},
   "outputs": [
    {
     "name": "stdout",
     "output_type": "stream",
     "text": [
      "what is the longest row?:  99\n",
      "* \n",
      "* * \n",
      "* * * \n",
      "* * * * \n",
      "* * * * * \n",
      "* * * * * * \n",
      "* * * * * * * \n",
      "* * * * * * * * \n",
      "* * * * * * * * * \n",
      "* * * * * * * * * * \n",
      "* * * * * * * * * \n",
      "* * * * * * * * \n",
      "* * * * * * * \n",
      "* * * * * * \n",
      "* * * * * \n",
      "* * * * \n",
      "* * * \n",
      "* * \n",
      "* \n"
     ]
    }
   ],
   "source": [
    "# Exercise 6.\n",
    "# Write a Python program to construct the following pattern.\n",
    "# * \n",
    "# * * \n",
    "# * * * \n",
    "# * * * * \n",
    "# * * * * * \n",
    "# * * * * \n",
    "# * * * \n",
    "# * * \n",
    "# *\n",
    "\n",
    "char = \"* \"\n",
    "longest_row =int(input(\"what is the longest row?:  \"))\n",
    "# if (longest_row > 10):\n",
    "#     longest_row = 10\n",
    "\n",
    "\n",
    "for number in range(1,longest_row,1):\n",
    "    print(number*char)\n",
    "for number in range(longest_row,0,-1):\n",
    "    print(number*char)\n",
    "    \n",
    "   \n",
    "   \n",
    "    \n",
    "    \n",
    "  \n",
    "\n"
   ]
  },
  {
   "cell_type": "code",
   "execution_count": 22,
   "metadata": {},
   "outputs": [
    {
     "name": "stdout",
     "output_type": "stream",
     "text": [
      "1\n",
      "2\n",
      "3 Fizz\n",
      "4\n",
      "5 Buzz\n",
      "6 Fizz\n",
      "7\n",
      "8\n",
      "9 Fizz\n",
      "10 Buzz\n",
      "11\n",
      "12 Fizz\n",
      "13\n",
      "14\n",
      "15 FizzBuzz\n",
      "16\n",
      "17\n",
      "18 Fizz\n",
      "19\n",
      "20 Buzz\n",
      "21 Fizz\n",
      "22\n",
      "23\n",
      "24 Fizz\n",
      "25 Buzz\n",
      "26\n",
      "27 Fizz\n",
      "28\n",
      "29\n",
      "30 FizzBuzz\n",
      "31\n",
      "32\n",
      "33 Fizz\n",
      "34\n",
      "35 Buzz\n",
      "36 Fizz\n",
      "37\n",
      "38\n",
      "39 Fizz\n",
      "40 Buzz\n",
      "41\n",
      "42 Fizz\n",
      "43\n",
      "44\n",
      "45 FizzBuzz\n",
      "46\n",
      "47\n",
      "48 Fizz\n",
      "49\n",
      "50 Buzz\n",
      "51 Fizz\n",
      "52\n",
      "53\n",
      "54 Fizz\n",
      "55 Buzz\n",
      "56\n",
      "57 Fizz\n",
      "58\n",
      "59\n",
      "60 FizzBuzz\n",
      "61\n",
      "62\n",
      "63 Fizz\n",
      "64\n",
      "65 Buzz\n",
      "66 Fizz\n",
      "67\n",
      "68\n",
      "69 Fizz\n",
      "70 Buzz\n",
      "71\n",
      "72 Fizz\n",
      "73\n",
      "74\n",
      "75 FizzBuzz\n",
      "76\n",
      "77\n",
      "78 Fizz\n",
      "79\n",
      "80 Buzz\n",
      "81 Fizz\n",
      "82\n",
      "83\n",
      "84 Fizz\n",
      "85 Buzz\n",
      "86\n",
      "87 Fizz\n",
      "88\n",
      "89\n",
      "90 FizzBuzz\n",
      "91\n",
      "92\n",
      "93 Fizz\n",
      "94\n",
      "95 Buzz\n",
      "96 Fizz\n",
      "97\n",
      "98\n",
      "99 Fizz\n",
      "100 Buzz\n"
     ]
    }
   ],
   "source": [
    "# Exercise 7: \n",
    "# Write a Python program which iterates the integers from 1 to 100. For multiples of three print \"Fizz\" \n",
    "# instead of the number and for the multiples of five print \"Buzz\". \n",
    "# For numbers which are multiples of both three and five print \"FizzBuzz\".\n",
    "\n",
    "for number in range(1,101,1):\n",
    "    if (number%3==0) and (number%5==0):\n",
    "        print(number,\"FizzBuzz\")\n",
    "    elif number%3==0:\n",
    "        print(number,\"Fizz\")\n",
    "    elif (number%5==0):\n",
    "        print(number,\"Buzz\")\n",
    "    else:\n",
    "        print(number)\n",
    "\n",
    "\n",
    "   "
   ]
  },
  {
   "cell_type": "code",
   "execution_count": 128,
   "metadata": {},
   "outputs": [
    {
     "name": "stdout",
     "output_type": "stream",
     "text": [
      "What is the max number?:  14\n",
      "\t1\t2\t3\t4\t5\t6\t7\t8\t9\t10\t11\t12\t13\t14\t\n",
      "1\t1\t2\t3\t4\t5\t6\t7\t8\t9\t10\t11\t12\t13\t14\t\n",
      "2\t2\t4\t6\t8\t10\t12\t14\t16\t18\t20\t22\t24\t26\t28\t\n",
      "3\t3\t6\t9\t12\t15\t18\t21\t24\t27\t30\t33\t36\t39\t42\t\n",
      "4\t4\t8\t12\t16\t20\t24\t28\t32\t36\t40\t44\t48\t52\t56\t\n",
      "5\t5\t10\t15\t20\t25\t30\t35\t40\t45\t50\t55\t60\t65\t70\t\n",
      "6\t6\t12\t18\t24\t30\t36\t42\t48\t54\t60\t66\t72\t78\t84\t\n",
      "7\t7\t14\t21\t28\t35\t42\t49\t56\t63\t70\t77\t84\t91\t98\t\n",
      "8\t8\t16\t24\t32\t40\t48\t56\t64\t72\t80\t88\t96\t104\t112\t\n",
      "9\t9\t18\t27\t36\t45\t54\t63\t72\t81\t90\t99\t108\t117\t126\t\n",
      "10\t10\t20\t30\t40\t50\t60\t70\t80\t90\t100\t110\t120\t130\t140\t\n",
      "11\t11\t22\t33\t44\t55\t66\t77\t88\t99\t110\t121\t132\t143\t154\t\n",
      "12\t12\t24\t36\t48\t60\t72\t84\t96\t108\t120\t132\t144\t156\t168\t\n",
      "13\t13\t26\t39\t52\t65\t78\t91\t104\t117\t130\t143\t156\t169\t182\t\n",
      "14\t14\t28\t42\t56\t70\t84\t98\t112\t126\t140\t154\t168\t182\t196\t\n"
     ]
    }
   ],
   "source": [
    "# Exercise 8.\n",
    "# In this exercise you will create a program that displays a multiplication table that \n",
    "# shows the products of all combinations of integers from 1 times 1 up to and including 10 times 10. \n",
    "# Your multiplication table should include a row of labels across the top of it containing the numbers 1 \n",
    "# through 10. It should also include labels down the left side consisting of the numbers 1 through 10. \n",
    "# When completing this exercise you will probably find it helpful to be able to print out a value without \n",
    "# moving down to the next line. This can be accomplished by added end=\"\" as the last parameter to \n",
    "# your print statement. For example, print(\"A\") will display the letter A and then move down to the next line. \n",
    "# The statementprint(\"A\", end=\"\")will display the letter A without moving down to the next line, causing the \n",
    "# next print statement to display its result on the same line as the letter A.\n",
    "#         1    2    3    4    5    6    7    8    9   10 \n",
    "#    1    1    2    3    4    5    6    7    8    9   10 \n",
    "#    2    2    4    6    8   10   12   14   16   18   20 \n",
    "#    3    3    6    9   12   15   18   21   24   27   30 \n",
    "#    4    4    8   12   16   20   24   28   32   36   40 \n",
    "#    5    5   10   15   20   25   30   35   40   45   50 \n",
    "#    6    6   12   18   24   30   36   42   48   54   60 \n",
    "#    7    7   14   21   28   35   42   49   56   63   70 \n",
    "#    8    8   16   24   32   40   48   56   64   72   80 \n",
    "#    9    9   18   27   36   45   54   63   72   81   90 \n",
    "#   10   10   20   30   40   50   60   70   80   90  100\n",
    "\n",
    "\n",
    "#Mine\n",
    "table_length=int(input(\"What is the max number?:  \"))\n",
    "#row heading\n",
    "print(\"\\t\",end=\"\")\n",
    "for k in range(1,table_length+1):\n",
    "    print(k,end=\"\\t\")\n",
    "print()\n",
    "\n",
    "#rest\n",
    "for i in range(1,table_length+1):\n",
    "    print (i, end=\"\\t\")\n",
    "    for j in range(1,table_length+1):\n",
    "        print (i*j, end=\"\\t\") \n",
    "    print()\n",
    "#___________________________________________________________________\n",
    "#Art\n",
    "# print(\"    \", end = \" \")\n",
    "# for i in range(1,table_length+1):\n",
    "#     print (\"{:4}\".format(i),end=\" \")\n",
    "# print()\n",
    "# for i in range(1,table_length+1):\n",
    "#     print (\"{:4}\".format(i), end=\" \")\n",
    "# #     print(\"\\n\")\n",
    "#     for j in range(1,table_length+1):\n",
    "#         print (\"{:4}\".format(i*j), end=\" \") \n",
    "#     print(\" \")\n",
    "\n",
    "#Tim\n",
    "# #first row on top of rest of table\n",
    "# print(\"\\t\",end=\"\")\n",
    "# for i in range(1,11,1):\n",
    "#     print(i,end=\"\\t\")\n",
    "# print()\n",
    "\n",
    "# #\n",
    "# for n2 in range(1,11,1):\n",
    "#     print(n2,end=\"\\t\")\n",
    "#     #printing row of table\n",
    "#     for number in range(1,11,1):\n",
    "#         print(number*n2,end=\"\\t\")  \n",
    "#     #prints newline char\n",
    "#     print(\"\") \n",
    "\n",
    "#functions sometimes have defaults, use help(print) to see how it's defaulted.  \n",
    "#sep= automatically separates\n",
    "#end=\"/n\" = new line\n",
    "#tab =\"/t\" = tab"
   ]
  },
  {
   "cell_type": "code",
   "execution_count": 139,
   "metadata": {},
   "outputs": [
    {
     "name": "stdout",
     "output_type": "stream",
     "text": [
      "What is word?:  banana\n",
      "ananab\n",
      "It's not a palidrome!\n"
     ]
    }
   ],
   "source": [
    "# Exercise 9.\n",
    "# A string is a palindrome if it is identical forward and backward. For example “anna”, “civic”, “level” and \n",
    "# “hannah” are all examples of palindromic words. Write a program that reads a string from the user and uses a \n",
    "# loop to determines whether or not it is a palindrome. Display the result, including a meaningful output message.\n",
    "\n",
    "palindrome=input(\"What is word?:  \")\n",
    "\n",
    "if palindrome == palindrome[-1::-1]:\n",
    "    print(palindrome[-1::-1])\n",
    "    print(\"It is a palidrome!\")\n",
    "elif palindrome!=palindrome[-1::-1]:\n",
    "    print(palindrome[-1::-1])\n",
    "    print(\"It's not a palidrome!\")\n",
    "\n",
    "\n",
    "\n",
    "#for listitem in mylist:\n",
    "#     print(listitem)\n",
    "#     print (listitem[::-1])\n",
    "#     print (listitem[(len(item))::-1])"
   ]
  },
  {
   "cell_type": "code",
   "execution_count": 138,
   "metadata": {},
   "outputs": [
    {
     "name": "stdout",
     "output_type": "stream",
     "text": [
      "CAT\n",
      "APPLE\n",
      "WATERMELON\n"
     ]
    }
   ],
   "source": [
    "list_of_words=[\"cat\",\"apple\", \"watermelon\"]\n",
    "\n",
    "for word in list_of_words:\n",
    "    print(word.upper())\n",
    "    \n",
    "    "
   ]
  },
  {
   "cell_type": "code",
   "execution_count": 9,
   "metadata": {},
   "outputs": [
    {
     "name": "stdout",
     "output_type": "stream",
     "text": [
      "['cat', 'apple', 'watermelon', 'hat', 'hat']\n"
     ]
    }
   ],
   "source": [
    "list_of_words.append(\"hat\")\n",
    "print(list_of_words)"
   ]
  },
  {
   "cell_type": "code",
   "execution_count": 20,
   "metadata": {},
   "outputs": [
    {
     "name": "stdout",
     "output_type": "stream",
     "text": [
      "['cat', 'apple', 'watermelon', 'hello', 'whatever']\n"
     ]
    }
   ],
   "source": [
    "list_of_words.remove(\"hat\")\n",
    "print(list_of_words)\n"
   ]
  },
  {
   "cell_type": "code",
   "execution_count": 14,
   "metadata": {},
   "outputs": [
    {
     "name": "stdout",
     "output_type": "stream",
     "text": [
      "['cat', 'apple', 'watermelon', 'hat', 'hello', 'whatever']\n"
     ]
    }
   ],
   "source": [
    "another_list=[\"hello\", \"whatever\"]\n",
    "\n",
    "\n",
    "list_of_words.extend(another_list)\n",
    "print(list_of_words)\n",
    "\n",
    "#extend allows you to combine the two lists together. "
   ]
  },
  {
   "cell_type": "code",
   "execution_count": 19,
   "metadata": {},
   "outputs": [
    {
     "data": {
      "text/plain": [
       "2"
      ]
     },
     "execution_count": 19,
     "metadata": {},
     "output_type": "execute_result"
    }
   ],
   "source": [
    "alist=[1,2,4,1]\n",
    "alist.count(1)\n"
   ]
  },
  {
   "cell_type": "code",
   "execution_count": 17,
   "metadata": {},
   "outputs": [
    {
     "name": "stdout",
     "output_type": "stream",
     "text": [
      "[1, 3, 5, 5, 6, 6, 7, 7, 8, 23]\n"
     ]
    }
   ],
   "source": [
    "blist=[1,5,7,8,23,5,6,7,3,6]\n",
    "blist.sort()\n",
    "print(blist)\n",
    "\n",
    "#sort is mutable, so you don't have to put an equal sign to change it. "
   ]
  },
  {
   "cell_type": "code",
   "execution_count": 18,
   "metadata": {},
   "outputs": [
    {
     "name": "stdout",
     "output_type": "stream",
     "text": [
      "[1, 5, 7, 8, 3, 2, 100]\n"
     ]
    }
   ],
   "source": [
    "clist=[1,5,7,8,3,2]\n",
    "clist.append(100)\n",
    "print(clist)\n",
    "\n",
    "#always just puts it on the end, when you append. "
   ]
  },
  {
   "cell_type": "code",
   "execution_count": 33,
   "metadata": {},
   "outputs": [
    {
     "name": "stdout",
     "output_type": "stream",
     "text": [
      "[21]\n",
      "elist [21, 51, 13, 17]\n"
     ]
    }
   ],
   "source": [
    "dlist=[1,51,13,4,17]\n",
    "\n",
    "elist=[]\n",
    "elist.append(21)\n",
    "print(elist)\n",
    "\n",
    "for number in dlist:\n",
    "    if number >9 and number <100:\n",
    "        elist.append(number)\n",
    "print(\"elist\",elist)\n",
    "\n",
    "#setup this way, it will will pull all double digits. "
   ]
  },
  {
   "cell_type": "code",
   "execution_count": 48,
   "metadata": {},
   "outputs": [
    {
     "name": "stdout",
     "output_type": "stream",
     "text": [
      "flist ['apple', 'animal', 'actor']\n"
     ]
    }
   ],
   "source": [
    "list_of_words = [\"apple\",\"animal\",\"bat\",\"actor\",\"cat\"]\n",
    "\n",
    "flist = []\n",
    "\n",
    "for word in list_of_words:\n",
    "    if word[0]==\"a\":\n",
    "        flist.append(word)\n",
    "print(\"flist\",flist)"
   ]
  },
  {
   "cell_type": "code",
   "execution_count": 67,
   "metadata": {},
   "outputs": [
    {
     "name": "stdout",
     "output_type": "stream",
     "text": [
      "Hello John.  How are you?\n"
     ]
    }
   ],
   "source": [
    "#format\n",
    "\n",
    "name=\"John\"\n",
    "\n",
    "print(\"Hello {}.  How are you?\".format(name))"
   ]
  },
  {
   "cell_type": "code",
   "execution_count": 92,
   "metadata": {},
   "outputs": [
    {
     "name": "stdout",
     "output_type": "stream",
     "text": [
      "67\n",
      "58\n",
      "20\n"
     ]
    }
   ],
   "source": [
    "list_name=[67,58,20]\n",
    "\n",
    "for element in list_name:\n",
    "    print(element)"
   ]
  },
  {
   "cell_type": "code",
   "execution_count": 97,
   "metadata": {},
   "outputs": [
    {
     "name": "stdout",
     "output_type": "stream",
     "text": [
      "3\n",
      "['CAT', 'APPLE', 'HELLO']\n"
     ]
    }
   ],
   "source": [
    "list_of_words = [\"cat\", \"apple\", \"hello\"]\n",
    "\n",
    "print(len(list_of_words))\n",
    "\n",
    "\n",
    "for index in range(0,3,1):\n",
    "    list_of_words[index]=list_of_words[index].upper()\n",
    "\n",
    "print(list_of_words)\n",
    "\n",
    "#bad way\n",
    "#list_of_words[0] = list_of_words[0].upper()\n",
    "#list_of_words[1] = list_of_words[1].upper()\n"
   ]
  },
  {
   "cell_type": "code",
   "execution_count": 99,
   "metadata": {},
   "outputs": [
    {
     "name": "stdout",
     "output_type": "stream",
     "text": [
      "[80, 60, 120, 80]\n"
     ]
    }
   ],
   "source": [
    "numbers = [40,30,60,40]\n",
    "#         0  1  2  3\n",
    "\n",
    "for index in range (0, len(numbers),1):\n",
    "    numbers[index] = numbers[index]*2\n",
    "\n",
    "print(numbers)"
   ]
  },
  {
   "cell_type": "code",
   "execution_count": 122,
   "metadata": {},
   "outputs": [
    {
     "name": "stdout",
     "output_type": "stream",
     "text": [
      "[0, 24, 0, 160, 0]\n"
     ]
    }
   ],
   "source": [
    "numbers = [7,12,5,80,2]\n",
    "\n",
    "#if single digit number, set it to 0. if it's double digit, then double it. \n",
    "\n",
    "for index in range(0,len(numbers),1):\n",
    "    #       spot    value\n",
    "    if numbers [index] > 9 and numbers[index] <100:\n",
    "        numbers[index] = numbers[index]*2\n",
    "    elif numbers[index] <9: # and numbers [index]>0 (for positive values only)\n",
    "        numbers[index] = 0\n",
    "print(numbers)"
   ]
  },
  {
   "cell_type": "code",
   "execution_count": 266,
   "metadata": {},
   "outputs": [],
   "source": [
    "# Exercise 10.\n",
    "# One of the first known examples of encryption was used by Julius Caesar. Caesar needed to provide written \n",
    "# instructions to his generals, but he didn’t want his enemies to learn his plans if the message slipped into \n",
    "# their hands. As result, he developed what later became known as the Caesar Cipher. The idea behind this cipher \n",
    "# is simple (and as a result, it provides no protection against modern code breaking techniques). \n",
    "# Each letter in the original message is shifted by 3 places. As a result, A becomes D, B becomes E, C \n",
    "# becomes F, D becomes G, etc. The last three letters in the alphabet are wrapped around to the beginning: \n",
    "# X becomes A, Y becomes B and Z becomes C. Non-letter characters are not modified by the cipher. Write a \n",
    "# program that implements a Caesar cipher. Allow the user to supply the message and the shift amount, and \n",
    "# then display the shifted message. Ensure that your program encodes both uppercase and lowercase letters. \n",
    "# Your program should also support negative shift values so that it can be used both to encode messages and \n",
    "# decode messages. Hints: ord(), chr()\n",
    "\n",
    "\n",
    "\n",
    "def encrypt():\n",
    "    plainText = input(\"What is your plaintext? \")\n",
    "    shift = int(input(\"What is your shift? \"))\n",
    "    cipherText = \"\"\n",
    "    for ch in plainText:\n",
    "        if ch.isalpha():\n",
    "            stayInAlphabet = ord(ch) + shift\n",
    "        if stayInAlphabet > ord('z'):\n",
    "            stayInAlphabet -= 26\n",
    "        finalLetter = chr(stayInAlphabet)\n",
    "        cipherText += finalLetter\n",
    "\n",
    "    print (\"Your ciphertext is: \", cipherText,\"with a shift of\",shift)\n",
    "\n",
    "\n",
    "def decrypte():\n",
    "    encryption=input(\"enter in your encrypted code\")\n",
    "    encryption_shift=int(input(\"enter in your encryption shift\"))\n",
    "\n",
    "    cipherText1 = \"\"\n",
    "    for c in encryption:\n",
    "        if c.isalpha():\n",
    "            stayInAlphabet1 = ord(c) - encryption_shift\n",
    "        if stayInAlphabet1 > ord('z'):\n",
    "            stayInAlphabet1 += 26\n",
    "        finalLetter1 = chr(stayInAlphabet1)\n",
    "        cipherText1 += finalLetter1\n",
    "\n",
    "    print (\"Your ciphertext is: \", cipherText1,\"with negative shift of\",encryption_shift)\n",
    "\n"
   ]
  },
  {
   "cell_type": "code",
   "execution_count": null,
   "metadata": {},
   "outputs": [],
   "source": []
  },
  {
   "cell_type": "code",
   "execution_count": 165,
   "metadata": {},
   "outputs": [],
   "source": [
    "#functions - a set of repeatable code\n",
    "#return is the last thing you want to do in a function because it breaks the code. \n",
    "\n",
    "def add(a,b): #a,b are arguments and they must exist for the function to work\n",
    "    total = a + b\n",
    "    return total\n",
    "\n",
    "def mult(a,b):\n",
    "    total = a * b\n",
    "    return total\n",
    "\n",
    "def div(a,b): \n",
    "    total = a/b\n",
    "    return total\n",
    "\n",
    "def calc (orange, banana):\n",
    "    resOne=add(orange,banana)\n",
    "    resTwo=mult(orange,banana)\n",
    "    return resOne,resTwo\n"
   ]
  },
  {
   "cell_type": "code",
   "execution_count": null,
   "metadata": {},
   "outputs": [],
   "source": []
  },
  {
   "cell_type": "code",
   "execution_count": 155,
   "metadata": {},
   "outputs": [
    {
     "name": "stdout",
     "output_type": "stream",
     "text": [
      "12\n",
      "20\n",
      "3.0\n"
     ]
    }
   ],
   "source": [
    "line1=add(5,7)\n",
    "print(line1)\n",
    "line2=mult(5,4)\n",
    "print(line2)\n",
    "line3=div(9,3)\n",
    "print(line3)"
   ]
  },
  {
   "cell_type": "code",
   "execution_count": 167,
   "metadata": {},
   "outputs": [
    {
     "data": {
      "text/plain": [
       "(12, 35)"
      ]
     },
     "execution_count": 167,
     "metadata": {},
     "output_type": "execute_result"
    }
   ],
   "source": [
    "calc(5,7)"
   ]
  },
  {
   "cell_type": "code",
   "execution_count": 158,
   "metadata": {},
   "outputs": [
    {
     "name": "stdout",
     "output_type": "stream",
     "text": [
      "\n"
     ]
    },
    {
     "data": {
      "text/plain": [
       "(1, 2, 3, 99)"
      ]
     },
     "execution_count": 158,
     "metadata": {},
     "output_type": "execute_result"
    }
   ],
   "source": [
    "#tuples\n",
    "#t=()\n",
    "#type(t)\n",
    "#tuple is immutable, and you can't change it in a list\n",
    "#data that can have strings and integers\n",
    "#list is [] and tuples ()\n",
    "\n",
    "alist =[1,2,3,4]\n",
    "alist [-1] = 99\n",
    "alist\n",
    "\n",
    "print()\n",
    "\n",
    "t=tuple(alist)\n",
    "t"
   ]
  },
  {
   "cell_type": "code",
   "execution_count": 160,
   "metadata": {},
   "outputs": [
    {
     "data": {
      "text/plain": [
       "tuple"
      ]
     },
     "execution_count": 160,
     "metadata": {},
     "output_type": "execute_result"
    }
   ],
   "source": [
    "komal=(\"Komal\", \"Rasheed\", 36, \"New York\")\n",
    "type(komal)"
   ]
  },
  {
   "cell_type": "code",
   "execution_count": 161,
   "metadata": {},
   "outputs": [
    {
     "data": {
      "text/plain": [
       "('Komal', 'Rasheed', 36, 'New York')"
      ]
     },
     "execution_count": 161,
     "metadata": {},
     "output_type": "execute_result"
    }
   ],
   "source": [
    "komal"
   ]
  },
  {
   "cell_type": "code",
   "execution_count": 163,
   "metadata": {},
   "outputs": [
    {
     "name": "stdout",
     "output_type": "stream",
     "text": [
      "Komal\n"
     ]
    }
   ],
   "source": [
    "firstname=komal[0]\n",
    "print(firstname)"
   ]
  },
  {
   "cell_type": "code",
   "execution_count": 168,
   "metadata": {},
   "outputs": [],
   "source": [
    "# vowels = \"aeiou\"\n",
    "# letter = input(\"Enter a letter: \")\n",
    "# letter = letter.lower()\n",
    "# if letter in vowels:\n",
    "#     print(\"Vowel\")\n",
    "# elif letter==\"y\":\n",
    "#     print(\"Consonant or Vowel\")\n",
    "# else:\n",
    "#     print(\"Consonant\")\n",
    "\n",
    "def isvowel(letter):\n",
    "    vowels = (\"a\",\"e\",\"i\",\"o\",\"u\")\n",
    "    letter = letter.lower()\n",
    "    if letter in vowels:\n",
    "        return True\n",
    "    else: \n",
    "        return False\n",
    "    "
   ]
  },
  {
   "cell_type": "code",
   "execution_count": 169,
   "metadata": {},
   "outputs": [
    {
     "data": {
      "text/plain": [
       "True"
      ]
     },
     "execution_count": 169,
     "metadata": {},
     "output_type": "execute_result"
    }
   ],
   "source": [
    "isvowel(\"a\")"
   ]
  },
  {
   "cell_type": "code",
   "execution_count": 170,
   "metadata": {},
   "outputs": [
    {
     "data": {
      "text/plain": [
       "False"
      ]
     },
     "execution_count": 170,
     "metadata": {},
     "output_type": "execute_result"
    }
   ],
   "source": [
    "isvowel(\"b\")"
   ]
  },
  {
   "cell_type": "code",
   "execution_count": null,
   "metadata": {},
   "outputs": [],
   "source": [
    "word=\"apple"
   ]
  },
  {
   "cell_type": "code",
   "execution_count": 176,
   "metadata": {},
   "outputs": [
    {
     "name": "stdout",
     "output_type": "stream",
     "text": [
      "vowel count 2\n",
      "con count 3\n"
     ]
    }
   ],
   "source": [
    "word = \"apple\"\n",
    "vowel_count=0\n",
    "consonant_count=0\n",
    "\n",
    "for letter in word:\n",
    "#     print(letter)\n",
    "    if isvowel(letter):\n",
    "        vowel_count+=1\n",
    "    else:\n",
    "        consonant_count+=1\n",
    "print(\"vowel count\",vowel_count)\n",
    "print(\"con count\",consonant_count)\n",
    "\n",
    "\n",
    "        "
   ]
  },
  {
   "cell_type": "code",
   "execution_count": 184,
   "metadata": {},
   "outputs": [],
   "source": [
    "#To turn it into a function: \n",
    "    \n",
    "def countofVowels(word): \n",
    "    vowel_count=0\n",
    "    consonant_count=0\n",
    "    for letter in word:\n",
    "        if isvowel(letter):\n",
    "            vowel_count+=1\n",
    "        else:\n",
    "            consonant_count+=1\n",
    "            \n",
    "    return vowel_count, consonant_count"
   ]
  },
  {
   "cell_type": "code",
   "execution_count": 185,
   "metadata": {},
   "outputs": [
    {
     "data": {
      "text/plain": [
       "(3, 3)"
      ]
     },
     "execution_count": 185,
     "metadata": {},
     "output_type": "execute_result"
    }
   ],
   "source": [
    "countofVowels(\"banana\")\n",
    "\n"
   ]
  },
  {
   "cell_type": "code",
   "execution_count": 192,
   "metadata": {},
   "outputs": [],
   "source": [
    "newlist = [\"apple\",\"orange\",\"mango\"]\n",
    "tlist = []"
   ]
  },
  {
   "cell_type": "code",
   "execution_count": 193,
   "metadata": {},
   "outputs": [],
   "source": [
    "for x in newlist:\n",
    "    tlist.extend([x,countofVowels(x)])"
   ]
  },
  {
   "cell_type": "code",
   "execution_count": 194,
   "metadata": {},
   "outputs": [
    {
     "data": {
      "text/plain": [
       "['apple', (2, 3), 'orange', (3, 3), 'mango', (2, 3)]"
      ]
     },
     "execution_count": 194,
     "metadata": {},
     "output_type": "execute_result"
    }
   ],
   "source": [
    "tlist"
   ]
  },
  {
   "cell_type": "code",
   "execution_count": 287,
   "metadata": {},
   "outputs": [],
   "source": [
    "#define vowels:\n",
    "def isvowel(letter):\n",
    "    vowels=(\"a\",\"e\",\"i\",\"o\",\"u\")\n",
    "    if letter in vowels:\n",
    "        return True\n",
    "    else:\n",
    "        return False\n",
    "\n",
    "#Evaluate Input to assess first letter: \n",
    "\n",
    "def evaluateWord (word):\n",
    "    letter=word[0]\n",
    "    if isvowel(letter)==True:\n",
    "        piglatin_translation=word+\"yay\"\n",
    "        print(word)\n",
    "    else: \n",
    "        for letter in word: \n",
    "            if isvowel(letter)==True:\n",
    "                slice_position=word.index(letter)\n",
    "                starting_letters=word[slice_position::1]\n",
    "                ending_letters=word[:slice_position:1]\n",
    "                piglatin_translation=starting_letters+ending_letters+\"ay\"\n",
    "#                 print(\"Vowel\", letter)\n",
    "#                 print(\"Index Point\",word.index(letter))\n",
    "                break         \n",
    "    return piglatin_translation #return has to be called the same thing on both statements.\n",
    "\n",
    "#Get input word\n",
    "\n",
    "def main ():\n",
    "    word=input(\"Enter word:  \")\n",
    "    word=word.lower()\n",
    "    if len(word)>1 and word.isalpha():\n",
    "        result=evaluateWord(word)\n",
    "        print(\"The new word is {}.\".format(result))\n",
    "    else:\n",
    "        print(\"{} is not a valid word.  Please enter a word.\".format(word))\n"
   ]
  },
  {
   "cell_type": "code",
   "execution_count": 288,
   "metadata": {},
   "outputs": [
    {
     "name": "stdout",
     "output_type": "stream",
     "text": [
      "Enter word:  bottle\n",
      "The new word is ottlebay.\n"
     ]
    }
   ],
   "source": [
    "main()"
   ]
  },
  {
   "cell_type": "code",
   "execution_count": null,
   "metadata": {},
   "outputs": [],
   "source": []
  },
  {
   "cell_type": "code",
   "execution_count": null,
   "metadata": {},
   "outputs": [],
   "source": []
  }
 ],
 "metadata": {
  "kernelspec": {
   "display_name": "Python 3",
   "language": "python",
   "name": "python3"
  },
  "language_info": {
   "codemirror_mode": {
    "name": "ipython",
    "version": 3
   },
   "file_extension": ".py",
   "mimetype": "text/x-python",
   "name": "python",
   "nbconvert_exporter": "python",
   "pygments_lexer": "ipython3",
   "version": "3.7.1"
  }
 },
 "nbformat": 4,
 "nbformat_minor": 2
}
