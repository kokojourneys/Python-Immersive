{
 "cells": [
  {
   "cell_type": "code",
   "execution_count": 6,
   "metadata": {},
   "outputs": [
    {
     "name": "stdout",
     "output_type": "stream",
     "text": [
      "[2, 3, 5, 7, 11, 13, 17, 19, 23, 29, 31, 37, 41, 43, 47, 53, 59, 61, 67, 71, 73, 79, 83, 89, 97]\n"
     ]
    }
   ],
   "source": [
    "## EXERCISE - PRIME NUMBER: \n",
    "\n",
    "alist = list(range(0,101,1))\n",
    "#crossing off one because it's not prime\n",
    "alist[1] = 0\n",
    "\n",
    "for divisor in range (2,len(alist),1):\n",
    "    for number in range (2*divisor,len(alist),divisor):\n",
    "            alist[number] =0\n",
    "\n",
    "\n",
    "primes = []\n",
    "for number in alist:\n",
    "    if number !=0:\n",
    "        primes.append(number)\n",
    "\n",
    "print(primes)\n"
   ]
  },
  {
   "cell_type": "code",
   "execution_count": null,
   "metadata": {},
   "outputs": [],
   "source": [
    "#Review \n",
    "\n",
    "alist = [1,3,5,2,3,4]\n",
    "\n",
    "blist = [[1,2],[4,7],[3,5]]\n",
    "\n",
    "alist[0] = 8272737232\n",
    "\n",
    "alist.append (9000)\n",
    "\n",
    "alist.extend(blist)\n",
    "\n",
    "alist\n"
   ]
  },
  {
   "cell_type": "code",
   "execution_count": null,
   "metadata": {},
   "outputs": [],
   "source": [
    "alist = [1,2,5,3,8,0,1,4]\n",
    "print(alist.sort())"
   ]
  },
  {
   "cell_type": "code",
   "execution_count": 69,
   "metadata": {},
   "outputs": [
    {
     "name": "stdout",
     "output_type": "stream",
     "text": [
      "hello\n",
      "idk\n",
      "words\n",
      "\n",
      "\n",
      "h\n",
      "e\n",
      "l\n",
      "l\n",
      "o\n",
      "\n",
      "\n",
      "1\n",
      "2\n",
      "3\n",
      "4\n",
      "\n",
      "\n",
      "CAT\n",
      "SNOWMAN\n",
      "WORD\n",
      "\n",
      "\n"
     ]
    }
   ],
   "source": [
    "#FOR LOOPS: \n",
    "\n",
    "#---------------------------\n",
    "#for var_name in iterable: \n",
    "    #your code here\n",
    "#---------------------------    \n",
    "\n",
    "alist=[\"hello\", \"idk\", \"words\"]\n",
    "\n",
    "for word in alist:\n",
    "    print(word)\n",
    "print(\"\\n\")\n",
    "#---------------------    \n",
    "string = \"hello\"\n",
    "\n",
    "for char in string:\n",
    "    print (char)\n",
    "print(\"\\n\")\n",
    "#----------------------\n",
    "\n",
    "for number in range(1,5,1):\n",
    "    print(number)\n",
    "print(\"\\n\")\n",
    "\n",
    "#--------------------- \n",
    "alist = [\"cat\",\"snowman\",\"word\"]\n",
    "# .      0 .     1 .     2\n",
    "\n",
    "for index in range (0,len(alist),1):\n",
    "    alist[index] = alist[index].upper()\n",
    "    print(alist[index])\n",
    "print(\"\\n\")"
   ]
  },
  {
   "cell_type": "code",
   "execution_count": null,
   "metadata": {},
   "outputs": [],
   "source": [
    "alist = [\"cat\",\"snowman\",\"word\"]\n",
    "# .      0 .     1 .     2\n",
    "\n",
    "for index in range (0,len(alist),1):\n",
    "            \n",
    "    print(index,alist[index])\n",
    "          #pos   #actual value\n",
    "\n",
    "for index in range (0,len(alist),1):\n",
    "    if len(alist[index]) <5:\n",
    "        alist[index] = alist[index].upper()\n",
    "    print(alist[index])\n"
   ]
  },
  {
   "cell_type": "code",
   "execution_count": null,
   "metadata": {},
   "outputs": [],
   "source": [
    "word = \"cat\"\n",
    "if len(word) <5:\n",
    "    print(\"small word\")"
   ]
  },
  {
   "cell_type": "code",
   "execution_count": 13,
   "metadata": {},
   "outputs": [
    {
     "name": "stdout",
     "output_type": "stream",
     "text": [
      "0\n",
      "1\n",
      "2\n",
      "\n",
      "\n",
      "0 f\n",
      "1 r\n",
      "2\n"
     ]
    }
   ],
   "source": [
    "#WHILE LOOPS: \n",
    "#while the condition is true: \n",
    "    #runs code again and again\n",
    "    #stops when the condition is false\n",
    "#-----------------------------\n",
    "#code: \n",
    "#while condition:\n",
    "    #your code\n",
    "#-----------------------------\n",
    "#EXAMPLE 1: \n",
    "\n",
    "x=0\n",
    "while x<3:\n",
    "    print(x)\n",
    "    x=x+1\n",
    "print(\"\\n\")\n",
    "#---------------\n",
    "#EXAMPLE 2: \n",
    "word = \"frog\"\n",
    "# .     0123\n",
    "\n",
    "vowels = [\"a\",\"e\",\"i\",\"o\",\"u\"]\n",
    "x=0\n",
    "\n",
    "while word[x] not in vowels:\n",
    "    print(x,word[x])\n",
    "    x=x+1\n",
    "print(x) #<----- while loop stopped because index 2 is the first vowel\n"
   ]
  },
  {
   "cell_type": "code",
   "execution_count": 19,
   "metadata": {},
   "outputs": [
    {
     "name": "stdout",
     "output_type": "stream",
     "text": [
      "a1: 20\n",
      "\n",
      "\n",
      "5\n",
      "\n",
      "\n"
     ]
    },
    {
     "data": {
      "text/plain": [
       "6"
      ]
     },
     "execution_count": 19,
     "metadata": {},
     "output_type": "execute_result"
    }
   ],
   "source": [
    "#FUNCTIONS: \n",
    "\n",
    "#if you're doing the same thing or writing the same function over and over again, it's better to write a function:\n",
    "\n",
    "\n",
    "def add(a,b,c):\n",
    "    total = a+b+c\n",
    "    return (total)\n",
    "\n",
    "a1=add(1,5,14)\n",
    "print(\"a1:\",a1)\n",
    "print(\"\\n\")\n",
    "\n",
    "#-----------------------\n",
    "length_word = len(\"apple\")\n",
    "print(length_word)\n",
    "print(\"\\n\")\n",
    "\n",
    "#-------------------------------\n",
    "alist = [1,2,3]\n",
    "sum(alist)\n",
    "\n",
    "#-----------------------\n"
   ]
  },
  {
   "cell_type": "code",
   "execution_count": 26,
   "metadata": {},
   "outputs": [
    {
     "data": {
      "text/plain": [
       "17"
      ]
     },
     "execution_count": 26,
     "metadata": {},
     "output_type": "execute_result"
    }
   ],
   "source": [
    "def new_sum(alist):\n",
    "    total = 0\n",
    "    for number in alist:\n",
    "        total=total + number\n",
    "    return total\n",
    "\n",
    "new_sum([1,4,5,7])\n",
    "        "
   ]
  },
  {
   "cell_type": "code",
   "execution_count": 27,
   "metadata": {},
   "outputs": [
    {
     "data": {
      "text/plain": [
       "17"
      ]
     },
     "execution_count": 27,
     "metadata": {},
     "output_type": "execute_result"
    }
   ],
   "source": [
    "list_of_words = [\"cat\",\"snowman\",\"bicycle\"]\n",
    "#How many list of characters\n",
    "\n",
    "def char_sum(alist):\n",
    "    total = 0\n",
    "    for word in alist: \n",
    "        total = total + len(word)\n",
    "    return total\n",
    "\n",
    "char_sum(list_of_words)\n",
    "    "
   ]
  },
  {
   "cell_type": "code",
   "execution_count": 29,
   "metadata": {},
   "outputs": [
    {
     "name": "stdout",
     "output_type": "stream",
     "text": [
      "Help on built-in function print in module builtins:\n",
      "\n",
      "print(...)\n",
      "    print(value, ..., sep=' ', end='\\n', file=sys.stdout, flush=False)\n",
      "    \n",
      "    Prints the values to a stream, or to sys.stdout by default.\n",
      "    Optional keyword arguments:\n",
      "    file:  a file-like object (stream); defaults to the current sys.stdout.\n",
      "    sep:   string inserted between values, default a space.\n",
      "    end:   string appended after the last value, default a newline.\n",
      "    flush: whether to forcibly flush the stream.\n",
      "\n"
     ]
    }
   ],
   "source": [
    "help(print)"
   ]
  },
  {
   "cell_type": "code",
   "execution_count": 31,
   "metadata": {},
   "outputs": [
    {
     "name": "stdout",
     "output_type": "stream",
     "text": [
      "hello-idk-words\n"
     ]
    }
   ],
   "source": [
    "print(\"hello\",\"idk\",\"words\",sep =\"-\")\n",
    "#default or key values are things the system and you an pass the default\n",
    "#when you set the default, when a value is entered that meets the requirement, it over writes the default\n",
    "#arguments have requirements first, and defaults second."
   ]
  },
  {
   "cell_type": "code",
   "execution_count": 33,
   "metadata": {},
   "outputs": [
    {
     "data": {
      "text/plain": [
       "3"
      ]
     },
     "execution_count": 33,
     "metadata": {},
     "output_type": "execute_result"
    }
   ],
   "source": [
    "def add(a,b=0):\n",
    "    return a+b\n",
    "\n",
    "add (3)"
   ]
  },
  {
   "cell_type": "code",
   "execution_count": 40,
   "metadata": {},
   "outputs": [
    {
     "name": "stdout",
     "output_type": "stream",
     "text": [
      "2828832\n",
      "\n",
      "\n",
      "['yes', 'apple', 'snowman']\n"
     ]
    }
   ],
   "source": [
    "#Dictionary\n",
    "#uses {}\n",
    "# Cannot be a key\n",
    "\n",
    "\n",
    "d={}\n",
    "d[\"john\"] = 2182181\n",
    "d[\"mark\"] = 2828832\n",
    "\n",
    "print(d[\"mark\"])\n",
    "print(\"\\n\")\n",
    "#------------------------\n",
    "food ={}\n",
    "food [\"veg\"] = [\"kale\",\"broccoli\"]\n",
    "food [\"fruit\"] = [\"apple\",\"banana\",\"watermelon\"]\n",
    "\n",
    "food[\"veg\"]\n",
    "\n",
    "#-------------------------\n",
    "fe = {}\n",
    "fe[\"oui\"] = \"yes\"\n",
    "fe[\"le\"] = \"the\"\n",
    "fe[\"pomme\"] = \"apple\"\n",
    "fe[\"chat\"] = \"cat\"\n",
    "fe[\"bonhomme de neige\"] = \"snowman\"\n",
    "\n",
    "list_of_words = [\"oui\",\"pomme\",\"bonhomme de neige\"]\n",
    "\n",
    "english_words = []\n",
    "\n",
    "for word in list_of_words:\n",
    "    word = fe[word]\n",
    "    english_words.append(word)\n",
    "print(english_words)"
   ]
  },
  {
   "cell_type": "code",
   "execution_count": 51,
   "metadata": {},
   "outputs": [
    {
     "name": "stdout",
     "output_type": "stream",
     "text": [
      "John Doe 1000\n",
      "Mary Jane 2000\n",
      "John Doe 2000\n"
     ]
    }
   ],
   "source": [
    "#EXERCISE: \n",
    "\n",
    "\n",
    "\n",
    "class Customer(object):\n",
    "#     \"\"\"A customer of ABC Bank with a checking account. Customers have the following properties:\n",
    "\n",
    "#     Attributes:\n",
    "#         name: A string representing the customer's name.\n",
    "#         balance: A float tracking the current balance of the customer's account.\n",
    "\n",
    "    def __init__(self, name, balance=0.0):\n",
    "#         \"\"\"Return a Customer object whose name is *name* and starting balance is *balance*.\"\"\"\n",
    "        self.name = name\n",
    "        self.balance = balance\n",
    "\n",
    "    def withdraw(self, amount):\n",
    "#         \"\"\"Return the balance remaining after withdrawing *amount* dollars.\"\"\"\n",
    "        if amount > self.balance:\n",
    "            raise RuntimeError #('Amount greater than available balance.')\n",
    "        self.balance -= amount\n",
    "        return self.balance\n",
    "\n",
    "    def deposit(self, amount):\n",
    "        #\"\"\"Return the balance remaining after depositing *amount* dollars.\"\"\"\n",
    "        self.balance += amount\n",
    "        return self.balance\n",
    "\n",
    "customer1 = Customer(\"John Doe\",1000)\n",
    "customer2 = Customer (\"Mary Jane\",2000)\n",
    "print(customer1.name, customer1.balance)\n",
    "print(customer2.name, customer2.balance)\n",
    "\n",
    "customer1.deposit(1000)\n",
    "print(customer1.name,customer1.balance)\n"
   ]
  },
  {
   "cell_type": "code",
   "execution_count": 54,
   "metadata": {},
   "outputs": [
    {
     "name": "stdout",
     "output_type": "stream",
     "text": [
      "Ford Mustang red\n"
     ]
    }
   ],
   "source": [
    "class Car:\n",
    "\n",
    "    def __init__(self, make, model, color=\"unknown\"):\n",
    "        self.make = make\n",
    "        self.model = model\n",
    "        self.color = color\n",
    "\n",
    "mustang = Car('Ford', 'Mustang', 'red')\n",
    "print(mustang.make, mustang.model, mustang.color)"
   ]
  },
  {
   "cell_type": "code",
   "execution_count": 68,
   "metadata": {},
   "outputs": [
    {
     "name": "stdout",
     "output_type": "stream",
     "text": [
      "Name: Brian Barne User Name: ConfusedPanda123  Bio: Serial Texter  Sex: Male Age: Male\n",
      "Name: Mary Jane User Name: Traveler123  Bio: Blogger  Sex: Female Age: Female\n",
      "ConfusedPanda123\n",
      "ConfusedPanda185\n",
      "1000\n",
      "990\n"
     ]
    }
   ],
   "source": [
    "#OBJECT EXERCISE: \n",
    "\n",
    "class User: \n",
    "    def __init__(self, name, username, bio, gender, age):\n",
    "        self.name = name\n",
    "        self.username = username\n",
    "        self.bio = bio\n",
    "        self.gender = gender\n",
    "        self.age = age\n",
    "        self.rating = 1000\n",
    "\n",
    "#This function allows the user to change a factor:\n",
    "\n",
    "    def change_username (self,username):\n",
    "        self.username = username\n",
    "        \n",
    "    def update_rating (self,won):\n",
    "        if won ==True:\n",
    "            self.rating +=10\n",
    "        elif won ==False:\n",
    "            self.rating -=10\n",
    "\n",
    "User1 = User(\"Brian Barne\",\"ConfusedPanda123\",\"Serial Texter\", \"Male\", 27)\n",
    "User2 = User(\"Mary Jane\", \"Traveler123\",\"Blogger\",\"Female\", 29)\n",
    "\n",
    "print(\"Name:\",User1.name,\"User Name:\",User1.username,\" Bio:\",User1.bio,\" Sex:\",User1.gender, \"Age:\",User1.gender)\n",
    "print(\"Name:\",User2.name,\"User Name:\",User2.username,\" Bio:\",User2.bio,\" Sex:\",User2.gender, \"Age:\",User2.gender)\n",
    "\n",
    "print(User1.username)\n",
    "User1.change_username(\"ConfusedPanda185\")\n",
    "print(User1.username)\n",
    "\n",
    "print(User1.rating)\n",
    "User1.update_rating(False)\n",
    "print(User1.rating)\n",
    "        "
   ]
  },
  {
   "cell_type": "code",
   "execution_count": null,
   "metadata": {},
   "outputs": [],
   "source": []
  }
 ],
 "metadata": {
  "kernelspec": {
   "display_name": "Python 3",
   "language": "python",
   "name": "python3"
  },
  "language_info": {
   "codemirror_mode": {
    "name": "ipython",
    "version": 3
   },
   "file_extension": ".py",
   "mimetype": "text/x-python",
   "name": "python",
   "nbconvert_exporter": "python",
   "pygments_lexer": "ipython3",
   "version": "3.7.1"
  }
 },
 "nbformat": 4,
 "nbformat_minor": 2
}
